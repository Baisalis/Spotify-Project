{
 "cells": [
  {
   "cell_type": "code",
   "execution_count": 1,
   "metadata": {
    "collapsed": true
   },
   "outputs": [],
   "source": [
    "import numpy as np\n",
    "import pandas as pd\n",
    "import matplotlib\n",
    "import matplotlib.pyplot as plt\n",
    "%matplotlib inline\n",
    "\n",
    "import time\n",
    "import timeit\n",
    "from sklearn.linear_model import Ridge\n",
    "from sklearn.linear_model import RidgeCV\n",
    "from sklearn.linear_model import LassoCV\n",
    "from sklearn.metrics import r2_score\n",
    "from sklearn.preprocessing import PolynomialFeatures\n",
    "from sklearn.model_selection import train_test_split\n",
    "from sklearn.model_selection import cross_val_score\n",
    "import statsmodels.api as sm"
   ]
  },
  {
   "cell_type": "code",
   "execution_count": 16,
   "metadata": {
    "collapsed": false
   },
   "outputs": [],
   "source": [
    "data = pd.read_csv('spotify.csv')\n",
    "data.drop('Unnamed: 0',axis=1,inplace=True)\n",
    "data = data.drop_duplicates(subset = 'track_id')\n",
    "genres = pd.read_csv('artist_genre.csv')\n",
    "genres = genres.set_index('artist_id')"
   ]
  },
  {
   "cell_type": "code",
   "execution_count": 3,
   "metadata": {
    "collapsed": false
   },
   "outputs": [],
   "source": [
    "cols = ['acousticness','danceability','energy','instrumentalness','liveness',\\\n",
    "        'loudness','popularity','speechiness','tempo','track_id']\n",
    "X = data[cols]\n",
    "X = X.set_index('track_id')\n",
    "X = X.drop_duplicates()\n",
    "X = (X - X.min()) / (X.max() - X.min())"
   ]
  },
  {
   "cell_type": "code",
   "execution_count": 152,
   "metadata": {
    "collapsed": true
   },
   "outputs": [],
   "source": [
    "def make_playlist(df,track_id,genres,num_songs):\n",
    "    \"\"\"\n",
    "    Function to make playlist from seed song.\n",
    "    \n",
    "    \"\"\"\n",
    "    cols = ['acousticness','danceability','energy','instrumentalness','liveness',\\\n",
    "        'loudness','popularity','speechiness','tempo','track_id']\n",
    "    X = df[cols]\n",
    "    X = X.set_index('track_id')\n",
    "    X = (X - X.min()) / (X.max() - X.min())\n",
    "    \n",
    "    # get distance to all songs \n",
    "    song = X.loc[track_id].values\n",
    "    vals = X.values \n",
    "    dists = np.linalg.norm(vals - song,axis = 1)\n",
    "    sort_ind = np.argsort(dists)\n",
    "    \n",
    "    # create playlist by choosing closest tracks in same genre\n",
    "    playlist = []\n",
    "    song_names = []\n",
    "    ii = 0\n",
    "    artist = df[df['track_id'].isin([track_id])]['artist_id'].values[0]\n",
    "    song_genres = genres.loc[artist].index[genres.loc[artist].notnull()]\n",
    "    \n",
    "    for ii in sort_ind:\n",
    "        if len(playlist) == num_songs:\n",
    "            continue \n",
    "        new_song = X.index[ii]\n",
    "        new_artist = df[df['track_id'].isin([new_song])]['artist_id'].values[0]\n",
    "        new_genres = genres.loc[new_artist].index[genres.loc[new_artist].notnull()]\n",
    "        genre_inter = np.intersect1d(song_genres,new_genres)\n",
    "        song_name = df[df['track_id'].isin([new_song])]['track_name'].values[0]\n",
    "        if len(genre_inter) > 2 and song_name not in song_names:\n",
    "            playlist.append(ii)\n",
    "            song_names.append(song_name)\n",
    "            \n",
    "    return X.index[playlist].values,song_names"
   ]
  },
  {
   "cell_type": "code",
   "execution_count": 158,
   "metadata": {
    "collapsed": false
   },
   "outputs": [
    {
     "name": "stdout",
     "output_type": "stream",
     "text": [
      "Kanye West: Through The Wire\n",
      "artist                       track_name\n",
      "     Kanye West                         Hey Mama\n",
      "    Frank Ocean                        Swim Good\n",
      "    Nicki Minaj                      High School\n",
      "    Alicia Keys   Girl On Fire - Inferno Version\n",
      "    Chris Brown                    Back To Sleep\n",
      "     Kanye West                      Gold Digger\n",
      "  The Diplomats                    Dipset Anthem\n",
      "  Juelz Santana          Dipset (Santana's Town)\n",
      "     Kanye West                 Through The Wire\n",
      "        Ashanti         Helpless (feat. Ja Rule)\n",
      "Sage The Gemini                       Good Thing\n",
      "  Missy Elliott  One Minute Man (feat. Ludacris)\n",
      "     Kanye West                    Touch The Sky\n",
      "    Chris Brown              Yo (Excuse Me Miss)\n",
      "   Busta Rhymes                       Girlfriend\n",
      "          B.o.B                          So Good\n",
      "     Kanye West                    We Don't Care\n",
      "     Kanye West                   Black Skinhead\n",
      "   Busta Rhymes         Calm Down (feat. Eminem)\n",
      "     Trey Songz                              1x1 \n",
      "\n",
      "Ellie Goulding: Burn\n",
      "artist                                         track_name\n",
      "   Justin Bieber            Turn To You - (Mother's Day Dedication)\n",
      "  Ellie Goulding                                               Burn\n",
      "     Troye Sivan                                              FOOLS\n",
      "Carrie Underwood                                       Church Bells\n",
      "   One Direction                                        Fool's Gold\n",
      "Carrie Underwood                                      See You Again\n",
      "          Avicii  Lonely Together - (feat. Rita Ora) Alan Walker...\n",
      "        Galantis                                             Hunter\n",
      "     Mandy Moore                                 Someday We'll Know\n",
      "      The Script                                          Breakeven\n",
      " Destiny's Child                                        Say My Name\n",
      "    Andy Grammer                                       Smoke Clears\n",
      " Vanessa Carlton                                   A Thousand Miles\n",
      "     Gavin James                                            Nervous\n",
      "    Selena Gomez                                       Good For You\n",
      "    Hunter Hayes                                             Rescue\n",
      "   Ariana Grande                                            The Way\n",
      "   Justin Bieber                                            Company\n",
      "   Justin Bieber                                               Fall\n",
      "         Beyoncé                                               Halo \n",
      "\n",
      "Grimes: Oblivion\n",
      "artist                             track_name\n",
      "        Sharon Van Etten                               Our Love\n",
      "         LCD Soundsystem                           Tribulations\n",
      "        Boards of Canada                           Peacock Tail\n",
      "Unknown Mortal Orchestra            So Good at Being in Trouble\n",
      "              Digitalism                                    Jet\n",
      "                Tensnake                             All In All\n",
      "                  The xx             Reconsider (Jamie xx Edit)\n",
      "             Nosaj Thing                                Realize\n",
      "                 Moderat                            A New Error\n",
      "                Jamie xx                  SeeSaw (Club Version)\n",
      "              Todd Terje            Snooze 4 Love - Dixon Remix\n",
      "                Jamie xx                            Sleep Sound\n",
      "        Boards of Canada                     Reach For The Dead\n",
      "                    Lone              Saturday Night (DJ-Kicks)\n",
      "               John Maus                              Touchdown\n",
      "                  SBTRKT                               Pharaohs\n",
      "          Fischerspooner                                 Emerge\n",
      "                  Grimes                               Oblivion\n",
      "             Kevin Morby    Wild Side (Oh the Places You'll Go)\n",
      "              Phantogram  Black Out Days - Future Islands Remix \n",
      "\n",
      "Beyoncé: 7/11\n",
      "artist                                       track_name\n",
      "              Kesha                                       Crazy Kids\n",
      "              B.o.B  We Still In This Bitch (feat. T.I. and Juicy J)\n",
      "            Beyoncé                                             7/11\n",
      "         Katy Perry                                 Circle The Drain\n",
      "         Katy Perry                                      Dressin' Up\n",
      "          Lady Gaga                                   Boys Boys Boys\n",
      "            Rihanna                             Desperado - MK Remix\n",
      "              Trina                       B R Right (feat. Ludacris)\n",
      "The Black Eyed Peas                           I Gotta Feeling - Edit\n",
      "     Britney Spears                          Do You Wanna Come Over?\n",
      "      The Saturdays                                    What About Us\n",
      "              Ciara                               Body Party (Remix)\n",
      "             Madcon                        Beggin - Original Version\n",
      "         Katy Perry                                  I Kissed a Girl\n",
      "         Soulja Boy                           Kiss Me Thru The Phone\n",
      "               T.I.                         Wit Me (feat. Lil Wayne)\n",
      "        Iggy Azalea                                 Change Your Life\n",
      "             Madcon                                      Don't Worry\n",
      "    Jennifer Hudson                                  It's Your World\n",
      "            Rihanna                                              S&M \n",
      "\n"
     ]
    }
   ],
   "source": [
    "songs = ['3KUpGMnZL76I9E7FoWV1re','0xMd5bcWTbyXS7wPrBtZA6','4P6n0udLAnmCNXVcobYbsK','1A7QIlETJSCFXzyp3cSbak']\n",
    "for song in songs:\n",
    "    playlist,song_names = make_playlist(data,song,genres,20)\n",
    "    print(': '.join(data[data['track_id'].isin([song])][['artist','track_name']].values[0]))\n",
    "    print(data[data['track_id'].isin(playlist)][['artist','track_name']].to_string(index=False),'\\n')"
   ]
  }
 ],
 "metadata": {
  "anaconda-cloud": {},
  "kernelspec": {
   "display_name": "Python [conda root]",
   "language": "python",
   "name": "conda-root-py"
  },
  "language_info": {
   "codemirror_mode": {
    "name": "ipython",
    "version": 3
   },
   "file_extension": ".py",
   "mimetype": "text/x-python",
   "name": "python",
   "nbconvert_exporter": "python",
   "pygments_lexer": "ipython3",
   "version": "3.5.2"
  }
 },
 "nbformat": 4,
 "nbformat_minor": 1
}
