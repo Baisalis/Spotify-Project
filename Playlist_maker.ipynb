{
 "cells": [
  {
   "cell_type": "code",
   "execution_count": 1,
   "metadata": {
    "collapsed": true
   },
   "outputs": [],
   "source": [
    "import numpy as np\n",
    "import pandas as pd\n",
    "import matplotlib\n",
    "import matplotlib.pyplot as plt\n",
    "%matplotlib inline"
   ]
  },
  {
   "cell_type": "code",
   "execution_count": 16,
   "metadata": {
    "collapsed": false
   },
   "outputs": [],
   "source": [
    "data = pd.read_csv('spotify.csv')\n",
    "data.drop('Unnamed: 0',axis=1,inplace=True)\n",
    "data = data.drop_duplicates(subset = 'track_id')\n",
    "genres = pd.read_csv('artist_genre.csv')\n",
    "genres = genres.set_index('artist_id')"
   ]
  },
  {
   "cell_type": "code",
   "execution_count": 3,
   "metadata": {
    "collapsed": false
   },
   "outputs": [],
   "source": [
    "cols = ['acousticness','danceability','energy','instrumentalness','liveness',\\\n",
    "        'loudness','popularity','speechiness','tempo','track_id']\n",
    "X = data[cols]\n",
    "X = X.set_index('track_id')\n",
    "X = X.drop_duplicates()\n",
    "X = (X - X.min()) / (X.max() - X.min())"
   ]
  },
  {
   "cell_type": "code",
   "execution_count": 98,
   "metadata": {
    "collapsed": true
   },
   "outputs": [],
   "source": [
    "def make_playlist(df,track_id,genres,num_songs):\n",
    "    \"\"\"\n",
    "    Function to make playlist from seed song.\n",
    "    \n",
    "    \"\"\"\n",
    "    cols = ['acousticness','danceability','energy','instrumentalness','liveness',\\\n",
    "        'loudness','popularity','speechiness','tempo','track_id']\n",
    "    X = df[cols]\n",
    "    X = X.set_index('track_id')\n",
    "    X = (X - X.min()) / (X.max() - X.min())\n",
    "    \n",
    "    # get distance to all songs \n",
    "    song = X.loc[track_id].values\n",
    "    vals = X.values \n",
    "    dists = np.linalg.norm(vals - song,axis = 1)\n",
    "    sort_ind = np.argsort(dists)\n",
    "    \n",
    "    # create playlist by choosing closest tracks in same genre\n",
    "    playlist = []\n",
    "    ii = 0\n",
    "    artist = df[df['track_id'].isin([track_id])]['artist_id'].values[0]\n",
    "    song_genres = genres.loc[artist].index[genres.loc[artist].notnull()]\n",
    "    \n",
    "    for ii in sort_ind:\n",
    "        if len(playlist) == num_songs:\n",
    "            continue \n",
    "        new_song = X.index[ii]\n",
    "        new_artist = df[df['track_id'].isin([new_song])]['artist_id'].values[0]\n",
    "        new_genres = genres.loc[new_artist].index[genres.loc[new_artist].notnull()]\n",
    "        genre_inter = np.intersect1d(song_genres,new_genres)\n",
    "        if len(genre_inter) > 0:\n",
    "            playlist.append(ii)\n",
    "            \n",
    "    return X.index[playlist].values"
   ]
  },
  {
   "cell_type": "code",
   "execution_count": 120,
   "metadata": {
    "collapsed": false
   },
   "outputs": [
    {
     "name": "stdout",
     "output_type": "stream",
     "text": [
      "The Doors: Riders On The Storm\n",
      "                      artist                                track_name\n",
      "577               Paul Simon       Me and Julio Down by the Schoolyard\n",
      "2190         Tears For Fears         Everybody Wants To Rule The World\n",
      "3184                    Cake                            I Will Survive\n",
      "8776            Sonny & Cher        I Got You Babe - LP/Single Version\n",
      "18546            OneRepublic                                 Apologize\n",
      "19881         Lynyrd Skynyrd                        Sweet Home Alabama\n",
      "21565                Nirvana                          Heart-Shaped Box\n",
      "21683              The Doors      Break On Through (To The Other Side)\n",
      "21690              The Doors                       Riders On The Storm\n",
      "22682            The Beatles                        Help! - Remastered\n",
      "23515            OneRepublic  If I Lose Myself - Alesso vs OneRepublic\n",
      "25654                  Heart        All I Wanna Do Is Make Love To You\n",
      "32310                  Cream                                White Room\n",
      "33326           Culture Club         Karma Chameleon - 2002 - Remaster\n",
      "42335  The Mamas & The Papas      California Dreamin' - Single Version\n",
      "43560        Tears For Fears         Everybody Wants To Rule The World\n",
      "47583           Stevie Nicks                         Edge of Seventeen\n",
      "58001    The Doobie Brothers                       Listen To The Music\n",
      "58720         Lynyrd Skynyrd                        Sweet Home Alabama\n",
      "73075                   Toto                           Stop Loving You \n",
      "\n",
      "Ellie Goulding: Burn\n",
      "                 artist                                         track_name\n",
      "886                 Sia  Rainbow (From The Original Motion Picture Soun...\n",
      "2950       Paolo Nutini                                       Last Request\n",
      "7025     Ellie Goulding                                               Burn\n",
      "11263       Troye Sivan                                              FOOLS\n",
      "11462  Carrie Underwood                                       Church Bells\n",
      "12505        Don Diablo               Take Her Place (feat. A R I Z O N A)\n",
      "16646           Rihanna                                     Kiss It Better\n",
      "23014          No Doubt                                        Don't Speak\n",
      "37630           Beyoncé                                               Halo\n",
      "41286           Ashanti                                            Foolish\n",
      "41855   Vanessa Carlton                                   A Thousand Miles\n",
      "41871       KT Tunstall                                     Suddenly I See\n",
      "43284   Walking On Cars                                      Speeding Cars\n",
      "47308          No Doubt                                        Don't Speak\n",
      "60903           Rihanna                                     Kiss It Better\n",
      "60904           Rihanna                               Hate That I Love You\n",
      "61537      Hunter Hayes                                             Rescue\n",
      "65458     Justin Bieber                                               Fall\n",
      "71788           Beyoncé                                               Halo\n",
      "73919           Beyoncé                                               Halo \n",
      "\n",
      "A Tribe Called Quest: Award Tour\n",
      "                     artist                                         track_name\n",
      "3109             Jamie Foxx                                             Winner\n",
      "3307           Busta Rhymes  Put Your Hands Where My Eyes Could See - Expli...\n",
      "6072            Hustle Gang                                            Friends\n",
      "8621      Justin Timberlake                                         Suit & Tie\n",
      "9172                OutKast                               Elevators (Me & You)\n",
      "11865                 Aminé                                        REDMERCEDES\n",
      "19616        Run The Jewels  Close Your Eyes (And Count to Fuck) [feat. Zac...\n",
      "20557                 Drake                            Started From The Bottom\n",
      "20877                 Jeezy                                             R.I.P.\n",
      "21044                 Drake                                           Sneakin’\n",
      "26134                 Drake                            Started From the Bottom\n",
      "32296  A Tribe Called Quest                                          Oh My God\n",
      "36663  A Tribe Called Quest                                         Award Tour\n",
      "38014                 Drake                            Started From the Bottom\n",
      "45271                  E-40             U And Dat (feat. T. Pain & Kandi Girl)\n",
      "45272                  E-40               Function - feat. YG, IAmSu & Problem\n",
      "45281              The Game                                  100 (feat. Drake)\n",
      "46093             will.i.am                                     Feelin' Myself\n",
      "66293                   SZA                                          Quicksand\n",
      "68148               J. Cole                                      Lights Please \n",
      "\n",
      "Grimes: Oblivion\n",
      "                  artist              track_name\n",
      "1806        Trentemøller  Take Me Into Your Skin\n",
      "1832        Trentemøller        Shades Of Marble\n",
      "6862   Portugal. The Man        AKA M80 The Wolf\n",
      "9561             Oddisee        Patience in Play\n",
      "16391   Sharon Van Etten                Our Love\n",
      "16558             ODESZA    My Friends Never Die\n",
      "19265   Boards of Canada            Peacock Tail\n",
      "22810         Digitalism                     Jet\n",
      "34168          Aeroplane                  Sambal\n",
      "42588        Nosaj Thing                 Realize\n",
      "51435           Motopony             Wait for Me\n",
      "51499             Grimes                Oblivion\n",
      "53934            Moderat             A New Error\n",
      "55323         Widowspeak               All Yours\n",
      "56342        Suicideyear                  CCCXXV\n",
      "62740   Boards of Canada      Reach For The Dead\n",
      "67509             SBTRKT                Pharaohs\n",
      "67525     Fischerspooner                  Emerge\n",
      "69046             Grimes                Oblivion\n",
      "84712            Oddisee          After Thoughts \n",
      "\n"
     ]
    }
   ],
   "source": [
    "songs = ['14XWXWv5FoCbFzLksawpEe','0xMd5bcWTbyXS7wPrBtZA6','5YTM7OgQDt9EJAYcfHLniJ','4P6n0udLAnmCNXVcobYbsK']\n",
    "for song in songs:\n",
    "    playlist = make_playlist(data,song,genres,20)\n",
    "    print(': '.join(data[data['track_id'].isin([song])][['artist','track_name']].values[0]))\n",
    "    print(data[data['track_id'].isin(playlist)][['artist','track_name']],'\\n')"
   ]
  },
  {
   "cell_type": "code",
   "execution_count": null,
   "metadata": {
    "collapsed": true
   },
   "outputs": [],
   "source": []
  }
 ],
 "metadata": {
  "anaconda-cloud": {},
  "kernelspec": {
   "display_name": "Python [conda root]",
   "language": "python",
   "name": "conda-root-py"
  },
  "language_info": {
   "codemirror_mode": {
    "name": "ipython",
    "version": 3
   },
   "file_extension": ".py",
   "mimetype": "text/x-python",
   "name": "python",
   "nbconvert_exporter": "python",
   "pygments_lexer": "ipython3",
   "version": "3.5.2"
  }
 },
 "nbformat": 4,
 "nbformat_minor": 1
}
