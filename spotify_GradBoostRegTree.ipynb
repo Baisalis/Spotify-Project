{
 "cells": [
  {
   "cell_type": "code",
   "execution_count": 1,
   "metadata": {
    "collapsed": true
   },
   "outputs": [],
   "source": [
    "import numpy as np\n",
    "import pandas as pd\n",
    "import matplotlib\n",
    "import matplotlib.pyplot as plt\n",
    "%matplotlib inline\n",
    "import seaborn.apionly as sns \n",
    "sns.set_context(\"notebook\") # can set to poster to make really large"
   ]
  },
  {
   "cell_type": "code",
   "execution_count": 2,
   "metadata": {
    "collapsed": false
   },
   "outputs": [
    {
     "data": {
      "image/png": "[encoded data removed]",
      "text/plain": [
       "<matplotlib.figure.Figure at 0x1047584e0>"
      ]
     },
     "metadata": {},
     "output_type": "display_data"
    }
   ],
   "source": [
    "output = sns.choose_colorbrewer_palette(data_type=\"qualitative\") # lots of choose options in seaborn"
   ]
  },
  {
   "cell_type": "code",
   "execution_count": 3,
   "metadata": {
    "collapsed": true
   },
   "outputs": [],
   "source": [
    "sns.set()"
   ]
  },
  {
   "cell_type": "markdown",
   "metadata": {},
   "source": [
    "---"
   ]
  },
  {
   "cell_type": "markdown",
   "metadata": {},
   "source": [
    "### Data prep\n",
    "\n",
    "1. load data\n",
    "2. train test split\n",
    "3. interaction terms\n",
    "4. take natural log of followers"
   ]
  },
  {
   "cell_type": "code",
   "execution_count": 4,
   "metadata": {
    "collapsed": true
   },
   "outputs": [],
   "source": [
    "data = pd.read_csv('df_by_playlist.csv',index_col=0)"
   ]
  },
  {
   "cell_type": "code",
   "execution_count": 121,
   "metadata": {
    "collapsed": true
   },
   "outputs": [],
   "source": [
    "names = list(['acousticness', 'danceability', 'duration_ms', 'energy',\n",
    "       'instrumentalness', 'liveness', 'loudness', 'popularity', 'speechiness',\n",
    "       'tempo', 'valence', 'explicit', 'mode', 'num_tracks',\n",
    "       'track_feat', 'track_remast', 'track_remix', 'album_feat',\n",
    "       'album_deluxe', 'album_best', 'time_sign_0.0', 'time_sign_3.0',\n",
    "       'time_sign_4.0', 'key_0.0', 'key_1.0', 'key_2.0', 'key_3.0', 'key_4.0',\n",
    "       'key_5.0', 'key_6.0', 'key_7.0', 'key_8.0', 'key_9.0', 'key_10.0','key_11.0'])"
   ]
  },
  {
   "cell_type": "code",
   "execution_count": 122,
   "metadata": {
    "collapsed": true
   },
   "outputs": [],
   "source": [
    "# splitting data\n",
    "\n",
    "from sklearn.model_selection import train_test_split\n",
    "xtrain, xtest, ytrain, ytest = train_test_split(data.drop('followers',axis=1),data['followers'],test_size=0.2)"
   ]
  },
  {
   "cell_type": "code",
   "execution_count": 123,
   "metadata": {
    "collapsed": false,
    "scrolled": true
   },
   "outputs": [
    {
     "data": {
      "text/html": [
       "<div>\n",
       "<style>\n",
       "    .dataframe thead tr:only-child th {\n",
       "        text-align: right;\n",
       "    }\n",
       "\n",
       "    .dataframe thead th {\n",
       "        text-align: left;\n",
       "    }\n",
       "\n",
       "    .dataframe tbody tr th {\n",
       "        vertical-align: top;\n",
       "    }\n",
       "</style>\n",
       "<table border=\"1\" class=\"dataframe\">\n",
       "  <thead>\n",
       "    <tr style=\"text-align: right;\">\n",
       "      <th></th>\n",
       "      <th>acousticness</th>\n",
       "      <th>danceability</th>\n",
       "      <th>duration_ms</th>\n",
       "      <th>energy</th>\n",
       "      <th>instrumentalness</th>\n",
       "      <th>liveness</th>\n",
       "      <th>loudness</th>\n",
       "      <th>popularity</th>\n",
       "      <th>speechiness</th>\n",
       "      <th>tempo</th>\n",
       "      <th>...</th>\n",
       "      <th>key_2.0</th>\n",
       "      <th>key_3.0</th>\n",
       "      <th>key_4.0</th>\n",
       "      <th>key_5.0</th>\n",
       "      <th>key_6.0</th>\n",
       "      <th>key_7.0</th>\n",
       "      <th>key_8.0</th>\n",
       "      <th>key_9.0</th>\n",
       "      <th>key_10.0</th>\n",
       "      <th>key_11.0</th>\n",
       "    </tr>\n",
       "    <tr>\n",
       "      <th>playlist_name</th>\n",
       "      <th></th>\n",
       "      <th></th>\n",
       "      <th></th>\n",
       "      <th></th>\n",
       "      <th></th>\n",
       "      <th></th>\n",
       "      <th></th>\n",
       "      <th></th>\n",
       "      <th></th>\n",
       "      <th></th>\n",
       "      <th></th>\n",
       "      <th></th>\n",
       "      <th></th>\n",
       "      <th></th>\n",
       "      <th></th>\n",
       "      <th></th>\n",
       "      <th></th>\n",
       "      <th></th>\n",
       "      <th></th>\n",
       "      <th></th>\n",
       "      <th></th>\n",
       "    </tr>\n",
       "  </thead>\n",
       "  <tbody>\n",
       "    <tr>\n",
       "      <th>Top Picks Pop</th>\n",
       "      <td>0.124546</td>\n",
       "      <td>0.635650</td>\n",
       "      <td>233676.450000</td>\n",
       "      <td>0.776950</td>\n",
       "      <td>0.000222</td>\n",
       "      <td>0.145665</td>\n",
       "      <td>-5.014050</td>\n",
       "      <td>48.050000</td>\n",
       "      <td>0.058780</td>\n",
       "      <td>121.083750</td>\n",
       "      <td>...</td>\n",
       "      <td>0</td>\n",
       "      <td>0</td>\n",
       "      <td>0</td>\n",
       "      <td>0</td>\n",
       "      <td>0</td>\n",
       "      <td>0</td>\n",
       "      <td>1</td>\n",
       "      <td>0</td>\n",
       "      <td>0</td>\n",
       "      <td>0</td>\n",
       "    </tr>\n",
       "    <tr>\n",
       "      <th>This Is: Skepta</th>\n",
       "      <td>0.131547</td>\n",
       "      <td>0.724478</td>\n",
       "      <td>197131.108696</td>\n",
       "      <td>0.743348</td>\n",
       "      <td>0.000350</td>\n",
       "      <td>0.195624</td>\n",
       "      <td>-6.287565</td>\n",
       "      <td>42.543478</td>\n",
       "      <td>0.218870</td>\n",
       "      <td>135.767283</td>\n",
       "      <td>...</td>\n",
       "      <td>0</td>\n",
       "      <td>0</td>\n",
       "      <td>0</td>\n",
       "      <td>0</td>\n",
       "      <td>0</td>\n",
       "      <td>0</td>\n",
       "      <td>0</td>\n",
       "      <td>0</td>\n",
       "      <td>0</td>\n",
       "      <td>0</td>\n",
       "    </tr>\n",
       "    <tr>\n",
       "      <th>Batman</th>\n",
       "      <td>0.005272</td>\n",
       "      <td>0.435100</td>\n",
       "      <td>267164.100000</td>\n",
       "      <td>0.894400</td>\n",
       "      <td>0.108865</td>\n",
       "      <td>0.267645</td>\n",
       "      <td>-4.823700</td>\n",
       "      <td>53.200000</td>\n",
       "      <td>0.081080</td>\n",
       "      <td>133.224900</td>\n",
       "      <td>...</td>\n",
       "      <td>1</td>\n",
       "      <td>0</td>\n",
       "      <td>0</td>\n",
       "      <td>0</td>\n",
       "      <td>0</td>\n",
       "      <td>0</td>\n",
       "      <td>0</td>\n",
       "      <td>0</td>\n",
       "      <td>0</td>\n",
       "      <td>0</td>\n",
       "    </tr>\n",
       "    <tr>\n",
       "      <th>(Descent) A Beginning</th>\n",
       "      <td>0.906870</td>\n",
       "      <td>0.216130</td>\n",
       "      <td>560991.565217</td>\n",
       "      <td>0.075721</td>\n",
       "      <td>0.907826</td>\n",
       "      <td>0.128530</td>\n",
       "      <td>-28.207957</td>\n",
       "      <td>35.782609</td>\n",
       "      <td>0.043517</td>\n",
       "      <td>100.026913</td>\n",
       "      <td>...</td>\n",
       "      <td>0</td>\n",
       "      <td>0</td>\n",
       "      <td>0</td>\n",
       "      <td>0</td>\n",
       "      <td>1</td>\n",
       "      <td>0</td>\n",
       "      <td>0</td>\n",
       "      <td>0</td>\n",
       "      <td>0</td>\n",
       "      <td>0</td>\n",
       "    </tr>\n",
       "    <tr>\n",
       "      <th>Brain Food</th>\n",
       "      <td>0.321189</td>\n",
       "      <td>0.554520</td>\n",
       "      <td>196525.860000</td>\n",
       "      <td>0.593780</td>\n",
       "      <td>0.674562</td>\n",
       "      <td>0.209068</td>\n",
       "      <td>-10.156320</td>\n",
       "      <td>57.740000</td>\n",
       "      <td>0.089916</td>\n",
       "      <td>124.427540</td>\n",
       "      <td>...</td>\n",
       "      <td>0</td>\n",
       "      <td>0</td>\n",
       "      <td>0</td>\n",
       "      <td>0</td>\n",
       "      <td>0</td>\n",
       "      <td>0</td>\n",
       "      <td>0</td>\n",
       "      <td>0</td>\n",
       "      <td>0</td>\n",
       "      <td>0</td>\n",
       "    </tr>\n",
       "  </tbody>\n",
       "</table>\n",
       "<p>5 rows × 35 columns</p>\n",
       "</div>"
      ],
      "text/plain": [
       "                       acousticness  danceability    duration_ms    energy  \\\n",
       "playlist_name                                                                \n",
       "Top Picks Pop              0.124546      0.635650  233676.450000  0.776950   \n",
       "This Is: Skepta            0.131547      0.724478  197131.108696  0.743348   \n",
       "Batman                     0.005272      0.435100  267164.100000  0.894400   \n",
       "(Descent) A Beginning      0.906870      0.216130  560991.565217  0.075721   \n",
       "Brain Food                 0.321189      0.554520  196525.860000  0.593780   \n",
       "\n",
       "                       instrumentalness  liveness   loudness  popularity  \\\n",
       "playlist_name                                                              \n",
       "Top Picks Pop                  0.000222  0.145665  -5.014050   48.050000   \n",
       "This Is: Skepta                0.000350  0.195624  -6.287565   42.543478   \n",
       "Batman                         0.108865  0.267645  -4.823700   53.200000   \n",
       "(Descent) A Beginning          0.907826  0.128530 -28.207957   35.782609   \n",
       "Brain Food                     0.674562  0.209068 -10.156320   57.740000   \n",
       "\n",
       "                       speechiness       tempo    ...     key_2.0  key_3.0  \\\n",
       "playlist_name                                     ...                        \n",
       "Top Picks Pop             0.058780  121.083750    ...           0        0   \n",
       "This Is: Skepta           0.218870  135.767283    ...           0        0   \n",
       "Batman                    0.081080  133.224900    ...           1        0   \n",
       "(Descent) A Beginning     0.043517  100.026913    ...           0        0   \n",
       "Brain Food                0.089916  124.427540    ...           0        0   \n",
       "\n",
       "                       key_4.0  key_5.0  key_6.0  key_7.0  key_8.0  key_9.0  \\\n",
       "playlist_name                                                                 \n",
       "Top Picks Pop                0        0        0        0        1        0   \n",
       "This Is: Skepta              0        0        0        0        0        0   \n",
       "Batman                       0        0        0        0        0        0   \n",
       "(Descent) A Beginning        0        0        1        0        0        0   \n",
       "Brain Food                   0        0        0        0        0        0   \n",
       "\n",
       "                       key_10.0  key_11.0  \n",
       "playlist_name                              \n",
       "Top Picks Pop                 0         0  \n",
       "This Is: Skepta               0         0  \n",
       "Batman                        0         0  \n",
       "(Descent) A Beginning         0         0  \n",
       "Brain Food                    0         0  \n",
       "\n",
       "[5 rows x 35 columns]"
      ]
     },
     "execution_count": 123,
     "metadata": {},
     "output_type": "execute_result"
    }
   ],
   "source": [
    "xtrain.head()"
   ]
  },
  {
   "cell_type": "code",
   "execution_count": 124,
   "metadata": {
    "collapsed": false
   },
   "outputs": [],
   "source": [
    "quant_predictors = list([predictor for predictor in names if xtrain.loc[:,predictor].unique().sum()!=1])\n",
    "\n",
    "def interact(x,variable,predictors=quant_predictors):\n",
    "    for predictor in predictors:\n",
    "        x[variable+'_'+predictor] = x[variable]*x[predictor]\n",
    "    return x"
   ]
  },
  {
   "cell_type": "code",
   "execution_count": 125,
   "metadata": {
    "collapsed": false,
    "scrolled": true
   },
   "outputs": [],
   "source": [
    "# using explicit interaction terms (even though GBRT sort of already can detect these)\n",
    "#from sklearn.preprocessing import PolynomialFeatures\n",
    "#poly = PolynomialFeatures(degree=2)\n",
    "#poly.fit_transform()\n",
    "\n",
    "xtrain = interact(xtrain,'loudness')\n",
    "xtrain = interact(xtrain,'danceability',list(['speechiness','tempo']))\n",
    "xtest = interact(xtest,'loudness')\n",
    "xtest = interact(xtest,'danceability',list(['speechiness','tempo']))\n"
   ]
  },
  {
   "cell_type": "code",
   "execution_count": 145,
   "metadata": {
    "collapsed": true
   },
   "outputs": [],
   "source": [
    "# Taking log of response variable to deal with outliers (right skewed distribution)\n",
    "# Otherwise, since each progressive model fit focuses on steepest gradient, we would always favor fitting these outliers \n",
    "# Also don't want to worry about whether train or test set gets most extreme outlier\n",
    "ytrain = np.log(ytrain+1)\n",
    "ytest = np.log(ytest+1)"
   ]
  },
  {
   "cell_type": "markdown",
   "metadata": {},
   "source": [
    "---"
   ]
  },
  {
   "cell_type": "markdown",
   "metadata": {},
   "source": [
    "---"
   ]
  },
  {
   "cell_type": "markdown",
   "metadata": {},
   "source": [
    "### Gradient Boosted Regression Model"
   ]
  },
  {
   "cell_type": "code",
   "execution_count": 147,
   "metadata": {
    "collapsed": true
   },
   "outputs": [],
   "source": [
    "# Gradient Boosted Regression\n",
    "# learning rate: want to get smaller as get closer to \"bottom\"\n",
    "from sklearn.ensemble import GradientBoostingRegressor\n",
    "from sklearn.metrics import mean_absolute_error\n",
    "from sklearn.model_selection import GridSearchCV\n",
    "from sklearn.metrics import mean_squared_error\n",
    "\n",
    "# FITTING STUMPs, if more than 1 predictor - need more depth\n",
    "#also learning rate =1, just using gradient, if learning rate<1 you're slowing yourself down by multiplying \"residual\" by fraction"
   ]
  },
  {
   "cell_type": "code",
   "execution_count": 148,
   "metadata": {
    "collapsed": true
   },
   "outputs": [],
   "source": [
    "def deviance_plot(est, X_test, y_test, ax=None, label='', train_color='#2c7bb6', \n",
    "                  test_color='#d7191c', alpha=1.0, ylim=(0, 10)):\n",
    "    \"\"\"Deviance plot for ``est``, use ``X_test`` and ``y_test`` for test error. \"\"\"\n",
    "    n_estimators = len(est.estimators_)\n",
    "    test_dev = np.empty(n_estimators)\n",
    "\n",
    "    for i, pred in enumerate(est.staged_predict(X_test)):\n",
    "        test_dev[i] = est.loss_(y_test, pred) # can put in any loss you want (MSE, etc.)\n",
    "\n",
    "    if ax is None:\n",
    "        fig = plt.figure()\n",
    "        ax = plt.gca()\n",
    "        \n",
    "    ax.plot(np.arange(n_estimators) + 1, test_dev, color=test_color, label='Test %s' % label, \n",
    "             linewidth=2, alpha=alpha)\n",
    "    ax.plot(np.arange(n_estimators) + 1, est.train_score_, color=train_color, \n",
    "             label='Train %s' % label, linewidth=2, alpha=alpha)\n",
    "    ax.set_ylabel('Error')\n",
    "    ax.set_xlabel('n_estimators')\n",
    "    ax.set_ylim(ylim)\n",
    "    return test_dev, ax"
   ]
  },
  {
   "cell_type": "markdown",
   "metadata": {},
   "source": [
    "### Fitting for learning rate, max_depth, min_samples_leaf, max_features"
   ]
  },
  {
   "cell_type": "code",
   "execution_count": 202,
   "metadata": {
    "collapsed": true
   },
   "outputs": [],
   "source": [
    "param_grid = {'learning_rate': [0.1,0.01], \n",
    "              'max_depth': [4,8,12],\n",
    "              'min_samples_leaf': [3,5,7],  \n",
    "              'max_features': [0.3,0.6]} "
   ]
  },
  {
   "cell_type": "code",
   "execution_count": 203,
   "metadata": {
    "collapsed": false
   },
   "outputs": [
    {
     "data": {
      "text/plain": [
       "GridSearchCV(cv=3, error_score='raise',\n",
       "       estimator=GradientBoostingRegressor(alpha=0.9, criterion='friedman_mse', init=None,\n",
       "             learning_rate=0.1, loss='huber', max_depth=3,\n",
       "             max_features=None, max_leaf_nodes=None,\n",
       "             min_impurity_decrease=0.0, min_impurity_split=None,\n",
       "             min_samples_leaf=1, min_samples_split=2,\n",
       "             min_weight_fraction_leaf=0.0, n_estimators=600,\n",
       "             presort='auto', random_state=None, subsample=1.0, verbose=0,\n",
       "             warm_start=False),\n",
       "       fit_params=None, iid=True, n_jobs=-1,\n",
       "       param_grid={'learning_rate': [0.1, 0.01], 'max_depth': [4, 8, 12], 'min_samples_leaf': [3, 5, 7], 'max_features': [0.3, 0.6]},\n",
       "       pre_dispatch='2*n_jobs', refit=True, return_train_score=True,\n",
       "       scoring=None, verbose=0)"
      ]
     },
     "execution_count": 203,
     "metadata": {},
     "output_type": "execute_result"
    }
   ],
   "source": [
    "gb = GradientBoostingRegressor(n_estimators=600, loss='huber') # huber weights outliers less\n",
    "gb_cv = GridSearchCV(gb, param_grid, cv=3, n_jobs=-1)\n",
    "gb_cv.fit(xtrain, ytrain)"
   ]
  },
  {
   "cell_type": "code",
   "execution_count": 204,
   "metadata": {
    "collapsed": false
   },
   "outputs": [
    {
     "data": {
      "text/plain": [
       "GradientBoostingRegressor(alpha=0.9, criterion='friedman_mse', init=None,\n",
       "             learning_rate=0.01, loss='huber', max_depth=12,\n",
       "             max_features=0.3, max_leaf_nodes=None,\n",
       "             min_impurity_decrease=0.0, min_impurity_split=None,\n",
       "             min_samples_leaf=7, min_samples_split=2,\n",
       "             min_weight_fraction_leaf=0.0, n_estimators=600,\n",
       "             presort='auto', random_state=None, subsample=1.0, verbose=0,\n",
       "             warm_start=False)"
      ]
     },
     "execution_count": 204,
     "metadata": {},
     "output_type": "execute_result"
    }
   ],
   "source": [
    "gb_cv.best_estimator_"
   ]
  },
  {
   "cell_type": "code",
   "execution_count": 205,
   "metadata": {
    "collapsed": false
   },
   "outputs": [
    {
     "name": "stdout",
     "output_type": "stream",
     "text": [
      "Best Params: \n",
      " {'learning_rate': 0.01, 'max_depth': 12, 'max_features': 0.3, 'min_samples_leaf': 7}\n",
      "Score:  0.93385286836\n",
      "MSE:  0.689714320734\n",
      "MAE:  0.286284349264\n"
     ]
    }
   ],
   "source": [
    "bp = gb_cv.best_params_\n",
    "print('Best Params: \\n',bp)\n",
    "print('Score: ',gb_cv.score(xtrain, ytrain))\n",
    "print('MSE: ',mean_squared_error(ytrain, gb_cv.predict(xtrain)))\n",
    "print('MAE: ',mean_absolute_error(ytrain, gb_cv.predict(xtrain)))"
   ]
  },
  {
   "cell_type": "markdown",
   "metadata": {},
   "source": [
    "### Now fitting for just learning rate using 5-fold CV - want to avoid overfitting"
   ]
  },
  {
   "cell_type": "code",
   "execution_count": 206,
   "metadata": {
    "collapsed": false
   },
   "outputs": [
    {
     "data": {
      "text/plain": [
       "GridSearchCV(cv=5, error_score='raise',\n",
       "       estimator=GradientBoostingRegressor(alpha=0.9, criterion='friedman_mse', init=None,\n",
       "             learning_rate=0.1, loss='huber', max_depth=12,\n",
       "             max_features=0.3, max_leaf_nodes=None,\n",
       "             min_impurity_decrease=0.0, min_impurity_split=None,\n",
       "             min_samples_leaf=7, min_samples_split=2,\n",
       "             min_weight_fraction_leaf=0.0, n_estimators=1000,\n",
       "             presort='auto', random_state=None, subsample=1.0, verbose=0,\n",
       "             warm_start=False),\n",
       "       fit_params=None, iid=True, n_jobs=1,\n",
       "       param_grid={'learning_rate': [0.1, 0.01, 0.001]},\n",
       "       pre_dispatch='2*n_jobs', refit=True, return_train_score=True,\n",
       "       scoring=None, verbose=0)"
      ]
     },
     "execution_count": 206,
     "metadata": {},
     "output_type": "execute_result"
    }
   ],
   "source": [
    "param_grid2 = {'learning_rate': [0.1,0.01,0.001]}\n",
    "gb2 = GradientBoostingRegressor(n_estimators=1000, \n",
    "                                loss=\"huber\", \n",
    "                                max_depth=bp['max_depth'],\n",
    "                                max_features=bp['max_features'],\n",
    "                                min_samples_leaf=bp['min_samples_leaf'])\n",
    "gb2_cv = GridSearchCV(gb2,param_grid2,cv=5)\n",
    "gb2_cv.fit(xtrain,ytrain)"
   ]
  },
  {
   "cell_type": "code",
   "execution_count": 207,
   "metadata": {
    "collapsed": false
   },
   "outputs": [
    {
     "data": {
      "text/plain": [
       "GradientBoostingRegressor(alpha=0.9, criterion='friedman_mse', init=None,\n",
       "             learning_rate=0.01, loss='huber', max_depth=12,\n",
       "             max_features=0.3, max_leaf_nodes=None,\n",
       "             min_impurity_decrease=0.0, min_impurity_split=None,\n",
       "             min_samples_leaf=7, min_samples_split=2,\n",
       "             min_weight_fraction_leaf=0.0, n_estimators=1000,\n",
       "             presort='auto', random_state=None, subsample=1.0, verbose=0,\n",
       "             warm_start=False)"
      ]
     },
     "execution_count": 207,
     "metadata": {},
     "output_type": "execute_result"
    }
   ],
   "source": [
    "gb2_cv.best_estimator_"
   ]
  },
  {
   "cell_type": "code",
   "execution_count": 208,
   "metadata": {
    "collapsed": false
   },
   "outputs": [
    {
     "name": "stdout",
     "output_type": "stream",
     "text": [
      "Best Params: \n",
      " {'learning_rate': 0.01}\n",
      "Score:  0.94394701136\n",
      "MSE:  0.584462969536\n",
      "MAE:  0.199568703279\n"
     ]
    }
   ],
   "source": [
    "bp2 = gb2_cv.best_params_\n",
    "print('Best Params: \\n',bp2)\n",
    "print('Score: ',gb2_cv.score(xtrain, ytrain))\n",
    "print('MSE: ',mean_squared_error(ytrain, gb2_cv.predict(xtrain)))\n",
    "print('MAE: ',mean_absolute_error(ytrain, gb2_cv.predict(xtrain)))"
   ]
  },
  {
   "cell_type": "code",
   "execution_count": null,
   "metadata": {
    "collapsed": true
   },
   "outputs": [],
   "source": []
  },
  {
   "cell_type": "code",
   "execution_count": 209,
   "metadata": {
    "collapsed": false,
    "scrolled": false
   },
   "outputs": [
    {
     "name": "stdout",
     "output_type": "stream",
     "text": [
      "Relative importance of all variables\n"
     ]
    },
    {
     "data": {
      "image/png": "[encoded data removed]",
      "text/plain": [
       "<matplotlib.figure.Figure at 0x105b4da58>"
      ]
     },
     "metadata": {},
     "output_type": "display_data"
    }
   ],
   "source": [
    "names_wInteraction = list(xtrain.keys().values)\n",
    "indicators = list([predictor for predictor in names_wInteraction if xtrain.loc[:,predictor].unique().sum()==1])\n",
    "\n",
    "print('Relative importance of all variables')\n",
    "feature_imp = gb2_cv.best_estimator_.feature_importances_\n",
    "pd.Series(feature_imp, index=names_wInteraction).sort_values().plot(kind=\"barh\");"
   ]
  },
  {
   "cell_type": "code",
   "execution_count": 210,
   "metadata": {
    "collapsed": false
   },
   "outputs": [
    {
     "name": "stdout",
     "output_type": "stream",
     "text": [
      "Relative importance of indicator variables\n"
     ]
    },
    {
     "data": {
      "image/png": "[encoded data removed]",
      "text/plain": [
       "<matplotlib.figure.Figure at 0x1152cc128>"
      ]
     },
     "metadata": {},
     "output_type": "display_data"
    }
   ],
   "source": [
    "print('Relative importance of indicator variables')\n",
    "pd.Series(feature_imp[feature_imp<0.01],index=indicators).sort_values().plot(kind='barh');"
   ]
  },
  {
   "cell_type": "markdown",
   "metadata": {},
   "source": [
    "### Model Evaluation"
   ]
  },
  {
   "cell_type": "code",
   "execution_count": 211,
   "metadata": {
    "collapsed": false
   },
   "outputs": [
    {
     "data": {
      "image/png": "[encoded data removed]",
      "text/plain": [
       "<matplotlib.figure.Figure at 0x1164e5e10>"
      ]
     },
     "metadata": {},
     "output_type": "display_data"
    }
   ],
   "source": [
    "deviance_plot(gb2_cv.best_estimator_, xtest, ytest,ylim=(0,1));\n",
    "plt.legend();"
   ]
  },
  {
   "cell_type": "code",
   "execution_count": 213,
   "metadata": {
    "collapsed": false
   },
   "outputs": [
    {
     "name": "stdout",
     "output_type": "stream",
     "text": [
      "Best Params: \n",
      " {'learning_rate': 0.01}\n",
      "Score (test set):  0.416574732155\n",
      "MSE (test set):  6.01199664126\n",
      "MAE (test set):  1.69792493549\n"
     ]
    }
   ],
   "source": [
    "print('Best Params: \\n',bp2)\n",
    "print('Score (test set): ',gb2_cv.score(xtest, ytest))\n",
    "print('MSE (test set): ',mean_squared_error(ytest, gb2_cv.predict(xtest)))\n",
    "print('MAE (test set): ',mean_absolute_error(ytest, gb2_cv.predict(xtest)))"
   ]
  },
  {
   "cell_type": "code",
   "execution_count": 221,
   "metadata": {
    "collapsed": false
   },
   "outputs": [
    {
     "data": {
      "text/plain": [
       "<matplotlib.text.Text at 0x115ff8c18>"
      ]
     },
     "execution_count": 221,
     "metadata": {},
     "output_type": "execute_result"
    },
    {
     "data": {
      "image/png": "[encoded data removed]",
      "text/plain": [
       "<matplotlib.figure.Figure at 0x1141d97b8>"
      ]
     },
     "metadata": {},
     "output_type": "display_data"
    }
   ],
   "source": [
    "# Residual Plot\n",
    "\n",
    "plt.scatter(ytest, gb2_cv.predict(xtest)-ytest,alpha=0.7)\n",
    "plt.axhline(c='red')\n",
    "plt.xlabel('True # Log Followers')\n",
    "plt.ylabel('Residual')\n",
    "plt.title('GBRT Model Residuals for Test Set')"
   ]
  },
  {
   "cell_type": "code",
   "execution_count": null,
   "metadata": {
    "collapsed": true
   },
   "outputs": [],
   "source": []
  }
 ],
 "metadata": {
  "kernelspec": {
   "display_name": "Python 3",
   "language": "python",
   "name": "python3"
  },
  "language_info": {
   "codemirror_mode": {
    "name": "ipython",
    "version": 3
   },
   "file_extension": ".py",
   "mimetype": "text/x-python",
   "name": "python",
   "nbconvert_exporter": "python",
   "pygments_lexer": "ipython3",
   "version": "3.6.0"
  },
  "widgets": {
   "state": {
    "0450ed0504714943bef965d22b4e9ad0": {
     "views": [
      {
       "cell_index": 1
      }
     ]
    }
   },
   "version": "1.2.0"
  }
 },
 "nbformat": 4,
 "nbformat_minor": 2
}
