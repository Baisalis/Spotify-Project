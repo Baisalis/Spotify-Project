{
 "cells": [
  {
   "cell_type": "markdown",
   "metadata": {},
   "source": [
    "# Ridge regression"
   ]
  },
  {
   "cell_type": "code",
   "execution_count": 3,
   "metadata": {},
   "outputs": [],
   "source": [
    "import spotipy\n",
    "import spotipy.util as util\n",
    "import time\n",
    "import timeit\n",
    "import pandas as pd \n",
    "import numpy as np\n",
    "from sklearn.linear_model import Ridge\n",
    "from sklearn.linear_model import RidgeCV\n",
    "from sklearn.linear_model import LassoCV\n",
    "from sklearn.metrics import r2_score\n",
    "from sklearn.preprocessing import PolynomialFeatures\n",
    "from sklearn.model_selection import train_test_split\n",
    "from sklearn.model_selection import cross_val_score\n",
    "import json\n",
    "import statsmodels.api as sm\n",
    "import matplotlib\n",
    "import matplotlib.pyplot as plt\n",
    "import seaborn as sns\n",
    "%matplotlib inline"
   ]
  },
  {
   "cell_type": "markdown",
   "metadata": {},
   "source": [
    "# Preprocessing"
   ]
  },
  {
   "cell_type": "code",
   "execution_count": 4,
   "metadata": {},
   "outputs": [
    {
     "name": "stdout",
     "output_type": "stream",
     "text": [
      "dataframe has shape (1602, 63)\n"
     ]
    }
   ],
   "source": [
    "# load data csv\n",
    "\n",
    "df = pd.read_csv('df_by_playlist.csv')\n",
    "print('dataframe has shape', df.shape)"
   ]
  },
  {
   "cell_type": "code",
   "execution_count": 5,
   "metadata": {
    "collapsed": true
   },
   "outputs": [],
   "source": [
    "names = list(['acousticness', 'danceability', 'duration_ms', 'energy',\n",
    "       'instrumentalness', 'liveness', 'loudness', 'popularity', 'speechiness',\n",
    "       'tempo', 'valence', 'explicit', 'mode', 'num_tracks',\n",
    "       'track_feat', 'track_remast', 'track_remix', 'album_feat',\n",
    "       'album_deluxe', 'album_best', 'time_sign_0.0', 'time_sign_3.0',\n",
    "       'time_sign_4.0', 'key_0.0', 'key_1.0', 'key_2.0', 'key_3.0', 'key_4.0',\n",
    "       'key_5.0', 'key_6.0', 'key_7.0', 'key_8.0', 'key_9.0', 'key_10.0','key_11.0'])"
   ]
  },
  {
   "cell_type": "code",
   "execution_count": 6,
   "metadata": {
    "collapsed": true
   },
   "outputs": [],
   "source": [
    "# normalize the (un-normalized) continuous data\n",
    "\n",
    "colnames = ['duration_ms','popularity','tempo','num_tracks']\n",
    "for name in colnames:\n",
    "    df[name] = df[name]/max(df[name])"
   ]
  },
  {
   "cell_type": "code",
   "execution_count": 7,
   "metadata": {},
   "outputs": [
    {
     "name": "stdout",
     "output_type": "stream",
     "text": [
      "dataframe has shape (1602, 77)\n"
     ]
    }
   ],
   "source": [
    "# add some interaction terms\n",
    "\n",
    "quant_predictors = list([predictor for predictor in names if df.loc[:,predictor].unique().sum()!=1])\n",
    "\n",
    "def interact(x,variable,predictors=quant_predictors):\n",
    "    for predictor in predictors:\n",
    "        x[variable+'_'+predictor] = x[variable]*x[predictor]\n",
    "    return x\n",
    "\n",
    "df = interact(df,'loudness')\n",
    "df = interact(df,'danceability',list(['speechiness','tempo']))\n",
    "df = interact(df,'loudness')\n",
    "df = interact(df,'danceability',list(['speechiness','tempo']))\n",
    "\n",
    "print('dataframe has shape', df.shape)"
   ]
  },
  {
   "cell_type": "code",
   "execution_count": 8,
   "metadata": {},
   "outputs": [
    {
     "name": "stdout",
     "output_type": "stream",
     "text": [
      "dataframe with continuous variable polynomial features has size (1602, 164)\n"
     ]
    }
   ],
   "source": [
    "# add polynomial features for continuous data\n",
    "\n",
    "polydf = pd.DataFrame(df[quant_predictors])\n",
    "\n",
    "deg = 2\n",
    "\n",
    "poly = PolynomialFeatures(degree=deg)\n",
    "polydftrans = poly.fit_transform(polydf)\n",
    "target_feature_names = ['x'.join(['{}^{}'.format(pair[0],pair[1]) for pair in tuple if pair[1]!=0]) for tuple in [zip(polydf.columns,p) for p in poly.powers_]]\n",
    "polydf = pd.DataFrame(polydftrans, columns = target_feature_names)\n",
    "\n",
    "df = df.join(polydf)\n",
    "df = df.drop(colnames,axis=1)\n",
    "print('dataframe with continuous variable polynomial features has size', df.shape)"
   ]
  },
  {
   "cell_type": "code",
   "execution_count": 9,
   "metadata": {},
   "outputs": [
    {
     "name": "stdout",
     "output_type": "stream",
     "text": [
      "training set: predictors dataframe has shape (1281, 162)\n",
      "test set: predictors dataframe has shape (321, 162)\n"
     ]
    }
   ],
   "source": [
    "# 80/20 train/test split\n",
    "\n",
    "Xtr, Xte, ytr, yte = train_test_split(df.drop(['followers','playlist_name'],axis=1), df['followers'], test_size=0.2, random_state=1)\n",
    "\n",
    "print('training set: predictors dataframe has shape', Xtr.shape)\n",
    "print('test set: predictors dataframe has shape', Xte.shape)"
   ]
  },
  {
   "cell_type": "markdown",
   "metadata": {},
   "source": [
    "# Fit model"
   ]
  },
  {
   "cell_type": "code",
   "execution_count": 10,
   "metadata": {},
   "outputs": [
    {
     "name": "stdout",
     "output_type": "stream",
     "text": [
      "R2 on training set is 0.203491368866\n",
      "R2 on test set is 0.126163807149\n",
      "took 0.03510840516537428 seconds\n"
     ]
    }
   ],
   "source": [
    "# do base line fit using only popularity\n",
    "\n",
    "X_test = Xte['popularity^1']; X_test = sm.add_constant(X_test)\n",
    "y_test = np.log(yte)\n",
    "X_train = Xtr['popularity^1']; X_train = sm.add_constant(X_train)\n",
    "y_train = np.log(ytr)\n",
    "\n",
    "start = timeit.default_timer()\n",
    "model = RidgeCV(alphas=(1e-5,1e-4,1e-3,1e-2,1e-1,1,1e1,1e2,1e3,1e4,1e5))\n",
    "model.fit(X_train,y_train)\n",
    "\n",
    "predtrain = model.predict(X_train)\n",
    "predtest = model.predict(X_test)\n",
    "stop = timeit.default_timer()\n",
    "\n",
    "R2train = r2_score(y_train,predtrain)\n",
    "R2test = r2_score(y_test,predtest)\n",
    "#print('Ridge alpha value is',model.alpha_)\n",
    "print('R2 on training set is',R2train)\n",
    "print('R2 on test set is',R2test)\n",
    "print('took',stop - start,'seconds')"
   ]
  },
  {
   "cell_type": "code",
   "execution_count": 11,
   "metadata": {},
   "outputs": [
    {
     "name": "stdout",
     "output_type": "stream",
     "text": [
      "Ridge alpha value is 0.1\n",
      "R2 on training set is 0.56276084744\n",
      "R2 on test set is 0.484277552849\n",
      "took 0.030982760712504387 seconds\n"
     ]
    }
   ],
   "source": [
    "# do fit using all predictors\n",
    "\n",
    "X_test = Xte; X_test = sm.add_constant(X_test)\n",
    "y_test = np.log(yte)\n",
    "X_train = Xtr; X_train = sm.add_constant(X_train)\n",
    "y_train = np.log(ytr)\n",
    "\n",
    "start = timeit.default_timer()\n",
    "model = RidgeCV(alphas=(1e-5,1e-4,1e-3,1e-2,1e-1,1,1e1,1e2,1e3,1e4,1e5))\n",
    "model.fit(X_train,y_train)\n",
    "\n",
    "predtrain = model.predict(X_train)\n",
    "predtest = model.predict(X_test)\n",
    "stop = timeit.default_timer()\n",
    "\n",
    "R2train = r2_score(y_train,predtrain)\n",
    "R2test = r2_score(y_test,predtest)\n",
    "print('Ridge alpha value is',model.alpha_)\n",
    "print('R2 on training set is',R2train)\n",
    "print('R2 on test set is',R2test)\n",
    "print('took',stop - start,'seconds')"
   ]
  },
  {
   "cell_type": "code",
   "execution_count": 13,
   "metadata": {},
   "outputs": [
    {
     "name": "stdout",
     "output_type": "stream",
     "text": [
      "CV scores are [ 0.46384187  0.47141176  0.40788326]\n",
      "mean CV score is 0.447712299801\n"
     ]
    }
   ],
   "source": [
    "# cross_val_score on training set\n",
    "\n",
    "CVscore = cross_val_score(model,X_train,y_train)\n",
    "print('CV scores are',CVscore)\n",
    "print('mean CV score is', np.mean(CVscore))"
   ]
  }
 ],
 "metadata": {
  "kernelspec": {
   "display_name": "Python 3",
   "language": "python",
   "name": "python3"
  },
  "language_info": {
   "codemirror_mode": {
    "name": "ipython",
    "version": 3
   },
   "file_extension": ".py",
   "mimetype": "text/x-python",
   "name": "python",
   "nbconvert_exporter": "python",
   "pygments_lexer": "ipython3",
   "version": "3.6.1"
  }
 },
 "nbformat": 4,
 "nbformat_minor": 2
}
