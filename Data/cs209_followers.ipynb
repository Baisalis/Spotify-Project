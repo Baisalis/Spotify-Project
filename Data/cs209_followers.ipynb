{
 "cells": [
  {
   "cell_type": "markdown",
   "metadata": {},
   "source": [
    "# Spotify Playlist Data Set\n"
   ]
  },
  {
   "cell_type": "code",
   "execution_count": null,
   "metadata": {
    "collapsed": false,
    "scrolled": true
   },
   "outputs": [],
   "source": [
    "import spotipy\n",
    "import spotipy.util as util\n",
    "#from config import CLIENT_ID, CLIENT_SECRET, PLAY_LIST, USER\n",
    "import random\n",
    "import requests\n",
    "import time\n",
    "import sys \n",
    "import os \n",
    "import json\n",
    "import pandas as pd "
   ]
  },
  {
   "cell_type": "markdown",
   "metadata": {},
   "source": [
    "## Launch Spotipy API\n",
    "- Get playlists made by Spotify  "
   ]
  },
  {
   "cell_type": "code",
   "execution_count": null,
   "metadata": {
    "collapsed": false,
    "scrolled": true
   },
   "outputs": [],
   "source": [
    "token = util.oauth2.SpotifyClientCredentials(client_id='d29d4c8d6bca47c4a890e95a276e37ac', client_secret='a5a967a13a2c4ffdb19d1bb8f8fe2622')\n",
    "cache_token = token.get_access_token()\n",
    "sp = spotipy.Spotify(cache_token)\n",
    "user = 'spotify'\n",
    "playlists = sp.user_playlists(user)\n",
    "\n",
    "# get url of each playlist\n",
    "request_urls = []\n",
    "while playlists:\n",
    "    for i, playlist in enumerate(playlists['items']):\n",
    "        request_urls.append(playlist.get('href'))\n",
    "    if playlists['next']:\n",
    "        playlists = sp.next(playlists)\n",
    "    else:\n",
    "        playlists = None\n"
   ]
  },
  {
   "cell_type": "markdown",
   "metadata": {},
   "source": [
    "## Scrape data from each playlist"
   ]
  },
  {
   "cell_type": "code",
   "execution_count": null,
   "metadata": {
    "collapsed": false
   },
   "outputs": [],
   "source": [
    "def get_playlist_info(playlist,user = 'spotify'):\n",
    "    \"\"\"\n",
    "    Get all available data from each playlist \n",
    "    \"\"\"\n",
    "    \n",
    "    if 'https' in playlist:\n",
    "        playlist = os.path.basename(playlist)\n",
    "    \n",
    "    # Query playlist \n",
    "    results = sp.user_playlist(user,playlist)\n",
    "    \n",
    "    # get meta-data\n",
    "    play_keys = ['description', 'collaborative', 'public', 'snapshot_id']\n",
    "    playlist_data = {key: value for key, value in results.items() if key in play_keys}\n",
    "    playlist_data['followers'] = results['followers']['total']\n",
    "    playlist_data['playlist_uri'] = results['uri']\n",
    "    playlist_data['playlist_name'] = results['name']\n",
    "    playlist_data['playlist_href'] = results['href']\n",
    "    playlist_data['playlist_id'] = results['id']\n",
    "    \n",
    "    # get song data \n",
    "    tracks = []\n",
    "    track_keys = ['explicit','duration_ms','track_number','popularity']\n",
    "    feat_keys = ['liveness','acousticness','instrumentalness', \\\n",
    "                 'key','energy','loudness','time_signature','tempo', \\\n",
    "                 'speechiness','mode','valence','danceability']\n",
    "    track_ids = []\n",
    "    for track in results['tracks']['items']:\n",
    "        track_id = track['track']['id']\n",
    "        track_ids.append(track_id)\n",
    "        track_dict = {key: value for key, value in track['track'].items() if key in track_keys}\n",
    "        track_dict['track_href'] = track['track']['href']\n",
    "        track_dict['track_uri'] = track['track']['uri']\n",
    "        track_dict['track_name'] = track['track']['name']\n",
    "        track_dict['track_id'] = track_id\n",
    "\n",
    "        # include featured artists at a later date\n",
    "        track_dict['artist'] = track['track']['artists'][0]['name']\n",
    "        track_dict['artist_id'] = track['track']['artists'][0]['id']\n",
    "        track_dict['artist_href'] = track['track']['artists'][0]['href']\n",
    "        track_dict['artist_uri'] = track['track']['artists'][0]['uri']\n",
    "        track_dict['album'] = track['track']['album']['name']\n",
    "        track_dict['album_id'] = track['track']['album']['id']\n",
    "        track_dict['album_href'] = track['track']['album']['href']\n",
    "        track_dict['album_uri'] = track['track']['album']['uri']\n",
    "        \n",
    "        # append to dict\n",
    "        tracks.append(track_dict)\n",
    "        del track_dict\n",
    "\n",
    "    # get audio features for each track \n",
    "    if len(track_ids) <= 50: # maximum number of songs per request \n",
    "        features = sp.audio_features(track_ids)\n",
    "    else:\n",
    "        features = []\n",
    "        subList = [track_ids[n:n+50] for n in range(0, len(track_ids), 50)]\n",
    "        for subset in subList:\n",
    "            feat = sp.audio_features(subset)\n",
    "            features.extend(feat)\n",
    "            time.sleep(1)\n",
    "        \n",
    "    for ii,feat in enumerate(features):\n",
    "        if feat is None:\n",
    "            feat = {'acousticness': None,'danceability': None,'duration_ms': None,'energy': None, \\\n",
    "             'instrumentalness': None,'key': None,'liveness': None,'loudness': None, \\\n",
    "              'mode': None,'speechiness': None,'tempo': None,'time_signature': None,'valence': None}\n",
    "        for key in feat_keys:\n",
    "            tracks[ii][key] = feat[key]\n",
    "\n",
    "    return playlist_data, tracks "
   ]
  },
  {
   "cell_type": "markdown",
   "metadata": {},
   "source": [
    "## Cache song data "
   ]
  },
  {
   "cell_type": "code",
   "execution_count": null,
   "metadata": {
    "collapsed": true
   },
   "outputs": [],
   "source": [
    "songcache={}"
   ]
  },
  {
   "cell_type": "code",
   "execution_count": null,
   "metadata": {
    "collapsed": false,
    "scrolled": true
   },
   "outputs": [],
   "source": [
    "for ii,playlist in enumerate(request_urls):\n",
    "    if playlist in songcache:\n",
    "        continue\n",
    "    try:\n",
    "        playlist_data, tracks = get_playlist_info(playlist,user = 'spotify')\n",
    "        all_data = [{**playlist_data,**track} for track in tracks]\n",
    "        print('Loaded playlist: {}, {}/{}'.format(playlist_data['playlist_name'],ii+1,len(request_urls)))\n",
    "        songcache[playlist] = all_data\n",
    "        time.sleep(1)\n",
    "    except Exception as e:\n",
    "        print(e)\n",
    "        time.sleep(5)"
   ]
  },
  {
   "cell_type": "markdown",
   "metadata": {},
   "source": [
    "## Write to CSV"
   ]
  },
  {
   "cell_type": "code",
   "execution_count": null,
   "metadata": {
    "collapsed": true
   },
   "outputs": [],
   "source": [
    "df = pd.DataFrame()\n",
    "for key in songcache:\n",
    "    play_df = pd.DataFrame(songcache[key])\n",
    "    df = df.append(play_df)"
   ]
  },
  {
   "cell_type": "code",
   "execution_count": null,
   "metadata": {
    "collapsed": true
   },
   "outputs": [],
   "source": [
    "df = df.reset_index(drop=True)\n",
    "df.to_csv('spotify.csv')"
   ]
  }
 ],
 "metadata": {
  "kernelspec": {
   "display_name": "Python [default]",
   "language": "python",
   "name": "python3"
  },
  "language_info": {
   "codemirror_mode": {
    "name": "ipython",
    "version": 3
   },
   "file_extension": ".py",
   "mimetype": "text/x-python",
   "name": "python",
   "nbconvert_exporter": "python",
   "pygments_lexer": "ipython3",
   "version": "3.5.2"
  }
 },
 "nbformat": 4,
 "nbformat_minor": 2
}
