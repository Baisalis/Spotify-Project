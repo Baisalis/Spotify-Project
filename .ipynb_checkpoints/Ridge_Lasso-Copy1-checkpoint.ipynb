{
 "cells": [
  {
   "cell_type": "code",
   "execution_count": 2,
   "metadata": {},
   "outputs": [],
   "source": [
    "import spotipy\n",
    "import spotipy.util as util\n",
    "import time\n",
    "import timeit\n",
    "import pandas as pd \n",
    "import numpy as np\n",
    "from sklearn.linear_model import RidgeCV\n",
    "from sklearn.linear_model import LassoCV\n",
    "from sklearn.metrics import r2_score\n",
    "from sklearn.preprocessing import PolynomialFeatures\n",
    "import json\n",
    "import statsmodels.api as sm\n",
    "import matplotlib\n",
    "import matplotlib.pyplot as plt\n",
    "import seaborn as sns\n",
    "%matplotlib inline"
   ]
  },
  {
   "cell_type": "markdown",
   "metadata": {},
   "source": [
    "# Preprocessing"
   ]
  },
  {
   "cell_type": "code",
   "execution_count": 9,
   "metadata": {},
   "outputs": [
    {
     "name": "stdout",
     "output_type": "stream",
     "text": [
      "dataframe has shape (1602, 63)\n"
     ]
    }
   ],
   "source": [
    "# load data csv\n",
    "\n",
    "df = pd.read_csv('df_by_playlist.csv')\n",
    "print('dataframe has shape', df.shape)"
   ]
  },
  {
   "cell_type": "code",
   "execution_count": 10,
   "metadata": {
    "collapsed": true
   },
   "outputs": [],
   "source": [
    "# normalize the (un-normalized) continuous data\n",
    "\n",
    "colnames = ['duration_ms','popularity','tempo','num_tracks']\n",
    "for name in colnames:\n",
    "    df[name] = df[name]/max(df[name])"
   ]
  },
  {
   "cell_type": "code",
   "execution_count": 11,
   "metadata": {},
   "outputs": [
    {
     "name": "stdout",
     "output_type": "stream",
     "text": [
      "dataframe with continuous variable polynomial features has size (1602, 142)\n"
     ]
    }
   ],
   "source": [
    "# add polynomial features for continuous data\n",
    "\n",
    "colnames = ['acousticness','danceability','duration_ms','energy','instrumentalness','liveness','loudness','popularity','speechiness','tempo','valence','num_tracks']\n",
    "polydf = pd.DataFrame(df[colnames])\n",
    "\n",
    "deg = 2\n",
    "\n",
    "poly = PolynomialFeatures(degree=deg)\n",
    "polydftrans = poly.fit_transform(polydf)\n",
    "target_feature_names = ['x'.join(['{}^{}'.format(pair[0],pair[1]) for pair in tuple if pair[1]!=0]) for tuple in [zip(polydf.columns,p) for p in poly.powers_]]\n",
    "polydf = pd.DataFrame(polydftrans, columns = target_feature_names)\n",
    "\n",
    "df = df.join(polydf)\n",
    "df = df.drop(colnames,axis=1)\n",
    "print('dataframe with continuous variable polynomial features has size', df.shape)"
   ]
  },
  {
   "cell_type": "code",
   "execution_count": 12,
   "metadata": {},
   "outputs": [
    {
     "name": "stdout",
     "output_type": "stream",
     "text": [
      "training set has shape (792, 142)\n",
      "test set has shape (810, 142)\n"
     ]
    }
   ],
   "source": [
    "# 50/50 train/test split\n",
    "\n",
    "np.random.seed(9)\n",
    "msk = np.random.rand(len(df)) < 0.5\n",
    "dftr = df[msk]\n",
    "dfte = df[~msk]\n",
    "\n",
    "print('training set has shape', dftr.shape)\n",
    "print('test set has shape', dfte.shape)"
   ]
  },
  {
   "cell_type": "markdown",
   "metadata": {},
   "source": [
    "# Fit model"
   ]
  },
  {
   "cell_type": "code",
   "execution_count": 13,
   "metadata": {},
   "outputs": [
    {
     "name": "stdout",
     "output_type": "stream",
     "text": [
      "Ridge alpha value is 0.1\n",
      "R2 on training set is 0.190246414835\n",
      "R2 on test set is 0.186230526451\n",
      "took 0.003281777258962393 seconds\n"
     ]
    }
   ],
   "source": [
    "# do base line fit using only popularity\n",
    "\n",
    "X_test = dfte['popularity^1']; X_test = sm.add_constant(X_test)\n",
    "y_test = np.log(dfte['followers'])\n",
    "X_train = dftr['popularity^1']; X_train = sm.add_constant(X_train)\n",
    "y_train = np.log(dftr['followers'])\n",
    "\n",
    "start = timeit.default_timer()\n",
    "model = RidgeCV(alphas=(1e-5,1e-4,1e-3,1e-2,1e-1,1,1e1,1e2,1e3,1e4,1e5))\n",
    "model.fit(X_train,y_train)\n",
    "\n",
    "predtrain = model.predict(X_train)\n",
    "predtest = model.predict(X_test)\n",
    "stop = timeit.default_timer()\n",
    "\n",
    "R2train = r2_score(y_train,predtrain)\n",
    "R2test = r2_score(y_test,predtest)\n",
    "print('Ridge alpha value is',model.alpha_)\n",
    "print('R2 on training set is',R2train)\n",
    "print('R2 on test set is',R2test)\n",
    "print('took',stop - start,'seconds')"
   ]
  },
  {
   "cell_type": "code",
   "execution_count": 16,
   "metadata": {},
   "outputs": [
    {
     "name": "stdout",
     "output_type": "stream",
     "text": [
      "Ridge alpha value is 0.1\n",
      "R2 on training set is 0.577605754863\n",
      "R2 on test set is 0.464835865076\n",
      "took 0.013502806425094604 seconds\n"
     ]
    }
   ],
   "source": [
    "# do fit using all predictors\n",
    "\n",
    "X_test = dfte.drop(['playlist_name','followers'],axis=1); X_test = sm.add_constant(X_test)\n",
    "y_test = np.log(dfte['followers'])\n",
    "X_train = dftr.drop(['playlist_name','followers'],axis=1); X_train = sm.add_constant(X_train)\n",
    "y_train = np.log(dftr['followers'])\n",
    "\n",
    "start = timeit.default_timer()\n",
    "model = RidgeCV(alphas=(1e-5,1e-4,1e-3,1e-2,1e-1,1,1e1,1e2,1e3,1e4,1e5))\n",
    "model.fit(X_train,y_train)\n",
    "\n",
    "predtrain = model.predict(X_train)\n",
    "predtest = model.predict(X_test)\n",
    "stop = timeit.default_timer()\n",
    "\n",
    "R2train = r2_score(y_train,predtrain)\n",
    "R2test = r2_score(y_test,predtest)\n",
    "print('Ridge alpha value is',model.alpha_)\n",
    "print('R2 on training set is',R2train)\n",
    "print('R2 on test set is',R2test)\n",
    "print('took',stop - start,'seconds')"
   ]
  },
  {
   "cell_type": "code",
   "execution_count": null,
   "metadata": {
    "collapsed": true
   },
   "outputs": [],
   "source": []
  }
 ],
 "metadata": {
  "kernelspec": {
   "display_name": "Python 3",
   "language": "python",
   "name": "python3"
  },
  "language_info": {
   "codemirror_mode": {
    "name": "ipython",
    "version": 3
   },
   "file_extension": ".py",
   "mimetype": "text/x-python",
   "name": "python",
   "nbconvert_exporter": "python",
   "pygments_lexer": "ipython3",
   "version": "3.6.1"
  }
 },
 "nbformat": 4,
 "nbformat_minor": 2
}
