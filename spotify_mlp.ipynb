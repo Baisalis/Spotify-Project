{
 "cells": [
  {
   "cell_type": "code",
   "execution_count": 9,
   "metadata": {
    "collapsed": true
   },
   "outputs": [],
   "source": [
    "import numpy as np\n",
    "import pandas as pd\n",
    "import matplotlib\n",
    "import matplotlib.pyplot as plt\n",
    "%matplotlib inline\n",
    "import seaborn.apionly as sns \n",
    "sns.set_context(\"notebook\") # can set to poster to make really large"
   ]
  },
  {
   "cell_type": "code",
   "execution_count": 10,
   "metadata": {
    "collapsed": true
   },
   "outputs": [],
   "source": [
    "data = pd.read_csv('df_by_playlist.csv',index_col=0)\n",
    "\n",
    "from sklearn.model_selection import train_test_split\n",
    "xtrain, xtest, ytrain, ytest = train_test_split(data.drop('followers',axis=1),data['followers'],test_size=0.2)"
   ]
  },
  {
   "cell_type": "code",
   "execution_count": 11,
   "metadata": {
    "collapsed": true
   },
   "outputs": [],
   "source": [
    "names = list(['acousticness', 'danceability', 'duration_ms', 'energy',\n",
    "       'instrumentalness', 'liveness', 'loudness', 'popularity', 'speechiness',\n",
    "       'tempo', 'valence', 'explicit', 'mode', 'num_tracks',\n",
    "       'track_feat', 'track_remast', 'track_remix', 'album_feat',\n",
    "       'album_deluxe', 'album_best', 'time_sign_0.0', 'time_sign_3.0',\n",
    "       'time_sign_4.0', 'key_0.0', 'key_1.0', 'key_2.0', 'key_3.0', 'key_4.0',\n",
    "       'key_5.0', 'key_6.0', 'key_7.0', 'key_8.0', 'key_9.0', 'key_10.0','key_11.0'])\n",
    "\n",
    "quant_predictors = list([predictor for predictor in names if xtrain.loc[:,predictor].unique().sum()!=1])\n",
    "\n",
    "def interact(x,variable,predictors=quant_predictors):\n",
    "    for predictor in predictors:\n",
    "        x[variable+'_'+predictor] = x[variable]*x[predictor]\n",
    "    return x"
   ]
  },
  {
   "cell_type": "code",
   "execution_count": 12,
   "metadata": {
    "collapsed": true
   },
   "outputs": [],
   "source": [
    "xtrain = interact(xtrain,'loudness')\n",
    "xtrain = interact(xtrain,'danceability',list(['speechiness','tempo']))\n",
    "xtest = interact(xtest,'loudness')\n",
    "xtest = interact(xtest,'danceability',list(['speechiness','tempo']))"
   ]
  },
  {
   "cell_type": "code",
   "execution_count": 13,
   "metadata": {
    "collapsed": true
   },
   "outputs": [],
   "source": [
    "ytrain = np.log(ytrain+1)\n",
    "ytest = np.log(ytest+1)"
   ]
  },
  {
   "cell_type": "code",
   "execution_count": 14,
   "metadata": {
    "collapsed": false
   },
   "outputs": [
    {
     "data": {
      "text/html": [
       "<div>\n",
       "<style>\n",
       "    .dataframe thead tr:only-child th {\n",
       "        text-align: right;\n",
       "    }\n",
       "\n",
       "    .dataframe thead th {\n",
       "        text-align: left;\n",
       "    }\n",
       "\n",
       "    .dataframe tbody tr th {\n",
       "        vertical-align: top;\n",
       "    }\n",
       "</style>\n",
       "<table border=\"1\" class=\"dataframe\">\n",
       "  <thead>\n",
       "    <tr style=\"text-align: right;\">\n",
       "      <th></th>\n",
       "      <th>acousticness</th>\n",
       "      <th>danceability</th>\n",
       "      <th>duration_ms</th>\n",
       "      <th>energy</th>\n",
       "      <th>instrumentalness</th>\n",
       "      <th>liveness</th>\n",
       "      <th>loudness</th>\n",
       "      <th>popularity</th>\n",
       "      <th>speechiness</th>\n",
       "      <th>tempo</th>\n",
       "      <th>...</th>\n",
       "      <th>loudness_instrumentalness</th>\n",
       "      <th>loudness_liveness</th>\n",
       "      <th>loudness_loudness</th>\n",
       "      <th>loudness_popularity</th>\n",
       "      <th>loudness_speechiness</th>\n",
       "      <th>loudness_tempo</th>\n",
       "      <th>loudness_valence</th>\n",
       "      <th>loudness_num_tracks</th>\n",
       "      <th>danceability_speechiness</th>\n",
       "      <th>danceability_tempo</th>\n",
       "    </tr>\n",
       "    <tr>\n",
       "      <th>playlist_name</th>\n",
       "      <th></th>\n",
       "      <th></th>\n",
       "      <th></th>\n",
       "      <th></th>\n",
       "      <th></th>\n",
       "      <th></th>\n",
       "      <th></th>\n",
       "      <th></th>\n",
       "      <th></th>\n",
       "      <th></th>\n",
       "      <th></th>\n",
       "      <th></th>\n",
       "      <th></th>\n",
       "      <th></th>\n",
       "      <th></th>\n",
       "      <th></th>\n",
       "      <th></th>\n",
       "      <th></th>\n",
       "      <th></th>\n",
       "      <th></th>\n",
       "      <th></th>\n",
       "    </tr>\n",
       "  </thead>\n",
       "  <tbody>\n",
       "    <tr>\n",
       "      <th>The Lectures of Joseph Campbell</th>\n",
       "      <td>0.871980</td>\n",
       "      <td>0.649690</td>\n",
       "      <td>212280.560000</td>\n",
       "      <td>0.315087</td>\n",
       "      <td>0.001768</td>\n",
       "      <td>0.214710</td>\n",
       "      <td>-17.873220</td>\n",
       "      <td>6.150000</td>\n",
       "      <td>0.898750</td>\n",
       "      <td>99.266430</td>\n",
       "      <td>...</td>\n",
       "      <td>-0.031607</td>\n",
       "      <td>-3.837559</td>\n",
       "      <td>319.451993</td>\n",
       "      <td>-109.920303</td>\n",
       "      <td>-16.063556</td>\n",
       "      <td>-1774.210742</td>\n",
       "      <td>-6.084080</td>\n",
       "      <td>-1787.322</td>\n",
       "      <td>0.583909</td>\n",
       "      <td>64.492407</td>\n",
       "    </tr>\n",
       "    <tr>\n",
       "      <th>Sleep</th>\n",
       "      <td>0.920579</td>\n",
       "      <td>0.288355</td>\n",
       "      <td>186652.980000</td>\n",
       "      <td>0.078688</td>\n",
       "      <td>0.869375</td>\n",
       "      <td>0.110317</td>\n",
       "      <td>-23.561450</td>\n",
       "      <td>60.180000</td>\n",
       "      <td>0.046629</td>\n",
       "      <td>88.372330</td>\n",
       "      <td>...</td>\n",
       "      <td>-20.483736</td>\n",
       "      <td>-2.599228</td>\n",
       "      <td>555.141926</td>\n",
       "      <td>-1417.928061</td>\n",
       "      <td>-1.098647</td>\n",
       "      <td>-2082.180235</td>\n",
       "      <td>-3.203556</td>\n",
       "      <td>-2356.145</td>\n",
       "      <td>0.013446</td>\n",
       "      <td>25.482603</td>\n",
       "    </tr>\n",
       "    <tr>\n",
       "      <th>2003</th>\n",
       "      <td>0.193680</td>\n",
       "      <td>0.673520</td>\n",
       "      <td>251759.840000</td>\n",
       "      <td>0.671180</td>\n",
       "      <td>0.012667</td>\n",
       "      <td>0.181948</td>\n",
       "      <td>-5.754480</td>\n",
       "      <td>46.180000</td>\n",
       "      <td>0.166854</td>\n",
       "      <td>112.956280</td>\n",
       "      <td>...</td>\n",
       "      <td>-0.072893</td>\n",
       "      <td>-1.047016</td>\n",
       "      <td>33.114040</td>\n",
       "      <td>-265.741886</td>\n",
       "      <td>-0.960158</td>\n",
       "      <td>-650.004654</td>\n",
       "      <td>-3.400587</td>\n",
       "      <td>-287.724</td>\n",
       "      <td>0.112380</td>\n",
       "      <td>76.078314</td>\n",
       "    </tr>\n",
       "    <tr>\n",
       "      <th>Eurovision Party</th>\n",
       "      <td>0.181191</td>\n",
       "      <td>0.611600</td>\n",
       "      <td>179348.800000</td>\n",
       "      <td>0.789975</td>\n",
       "      <td>0.000707</td>\n",
       "      <td>0.189103</td>\n",
       "      <td>-6.348725</td>\n",
       "      <td>26.925000</td>\n",
       "      <td>0.059615</td>\n",
       "      <td>126.636725</td>\n",
       "      <td>...</td>\n",
       "      <td>-0.004491</td>\n",
       "      <td>-1.200560</td>\n",
       "      <td>40.306309</td>\n",
       "      <td>-170.939421</td>\n",
       "      <td>-0.378479</td>\n",
       "      <td>-803.981742</td>\n",
       "      <td>-4.321418</td>\n",
       "      <td>-253.949</td>\n",
       "      <td>0.036461</td>\n",
       "      <td>77.451021</td>\n",
       "    </tr>\n",
       "    <tr>\n",
       "      <th>This Is: George Harrison</th>\n",
       "      <td>0.283704</td>\n",
       "      <td>0.541136</td>\n",
       "      <td>237203.045455</td>\n",
       "      <td>0.675568</td>\n",
       "      <td>0.016738</td>\n",
       "      <td>0.219336</td>\n",
       "      <td>-8.430932</td>\n",
       "      <td>27.727273</td>\n",
       "      <td>0.037395</td>\n",
       "      <td>122.892205</td>\n",
       "      <td>...</td>\n",
       "      <td>-0.141115</td>\n",
       "      <td>-1.849210</td>\n",
       "      <td>71.080611</td>\n",
       "      <td>-233.766746</td>\n",
       "      <td>-0.315279</td>\n",
       "      <td>-1036.095798</td>\n",
       "      <td>-5.082894</td>\n",
       "      <td>-370.961</td>\n",
       "      <td>0.020236</td>\n",
       "      <td>66.501441</td>\n",
       "    </tr>\n",
       "  </tbody>\n",
       "</table>\n",
       "<p>5 rows × 75 columns</p>\n",
       "</div>"
      ],
      "text/plain": [
       "                                 acousticness  danceability    duration_ms  \\\n",
       "playlist_name                                                                \n",
       "The Lectures of Joseph Campbell      0.871980      0.649690  212280.560000   \n",
       "Sleep                                0.920579      0.288355  186652.980000   \n",
       "2003                                 0.193680      0.673520  251759.840000   \n",
       "Eurovision Party                     0.181191      0.611600  179348.800000   \n",
       "This Is: George Harrison             0.283704      0.541136  237203.045455   \n",
       "\n",
       "                                   energy  instrumentalness  liveness  \\\n",
       "playlist_name                                                           \n",
       "The Lectures of Joseph Campbell  0.315087          0.001768  0.214710   \n",
       "Sleep                            0.078688          0.869375  0.110317   \n",
       "2003                             0.671180          0.012667  0.181948   \n",
       "Eurovision Party                 0.789975          0.000707  0.189103   \n",
       "This Is: George Harrison         0.675568          0.016738  0.219336   \n",
       "\n",
       "                                  loudness  popularity  speechiness  \\\n",
       "playlist_name                                                         \n",
       "The Lectures of Joseph Campbell -17.873220    6.150000     0.898750   \n",
       "Sleep                           -23.561450   60.180000     0.046629   \n",
       "2003                             -5.754480   46.180000     0.166854   \n",
       "Eurovision Party                 -6.348725   26.925000     0.059615   \n",
       "This Is: George Harrison         -8.430932   27.727273     0.037395   \n",
       "\n",
       "                                      tempo         ...          \\\n",
       "playlist_name                                       ...           \n",
       "The Lectures of Joseph Campbell   99.266430         ...           \n",
       "Sleep                             88.372330         ...           \n",
       "2003                             112.956280         ...           \n",
       "Eurovision Party                 126.636725         ...           \n",
       "This Is: George Harrison         122.892205         ...           \n",
       "\n",
       "                                 loudness_instrumentalness  loudness_liveness  \\\n",
       "playlist_name                                                                   \n",
       "The Lectures of Joseph Campbell                  -0.031607          -3.837559   \n",
       "Sleep                                           -20.483736          -2.599228   \n",
       "2003                                             -0.072893          -1.047016   \n",
       "Eurovision Party                                 -0.004491          -1.200560   \n",
       "This Is: George Harrison                         -0.141115          -1.849210   \n",
       "\n",
       "                                 loudness_loudness  loudness_popularity  \\\n",
       "playlist_name                                                             \n",
       "The Lectures of Joseph Campbell         319.451993          -109.920303   \n",
       "Sleep                                   555.141926         -1417.928061   \n",
       "2003                                     33.114040          -265.741886   \n",
       "Eurovision Party                         40.306309          -170.939421   \n",
       "This Is: George Harrison                 71.080611          -233.766746   \n",
       "\n",
       "                                 loudness_speechiness  loudness_tempo  \\\n",
       "playlist_name                                                           \n",
       "The Lectures of Joseph Campbell            -16.063556    -1774.210742   \n",
       "Sleep                                       -1.098647    -2082.180235   \n",
       "2003                                        -0.960158     -650.004654   \n",
       "Eurovision Party                            -0.378479     -803.981742   \n",
       "This Is: George Harrison                    -0.315279    -1036.095798   \n",
       "\n",
       "                                 loudness_valence  loudness_num_tracks  \\\n",
       "playlist_name                                                            \n",
       "The Lectures of Joseph Campbell         -6.084080            -1787.322   \n",
       "Sleep                                   -3.203556            -2356.145   \n",
       "2003                                    -3.400587             -287.724   \n",
       "Eurovision Party                        -4.321418             -253.949   \n",
       "This Is: George Harrison                -5.082894             -370.961   \n",
       "\n",
       "                                 danceability_speechiness  danceability_tempo  \n",
       "playlist_name                                                                  \n",
       "The Lectures of Joseph Campbell                  0.583909           64.492407  \n",
       "Sleep                                            0.013446           25.482603  \n",
       "2003                                             0.112380           76.078314  \n",
       "Eurovision Party                                 0.036461           77.451021  \n",
       "This Is: George Harrison                         0.020236           66.501441  \n",
       "\n",
       "[5 rows x 75 columns]"
      ]
     },
     "execution_count": 14,
     "metadata": {},
     "output_type": "execute_result"
    }
   ],
   "source": [
    "xtrain.head()"
   ]
  },
  {
   "cell_type": "code",
   "execution_count": 15,
   "metadata": {
    "collapsed": false
   },
   "outputs": [
    {
     "data": {
      "text/plain": [
       "Index(['acousticness', 'danceability', 'duration_ms', 'energy',\n",
       "       'instrumentalness', 'liveness', 'loudness', 'popularity', 'speechiness',\n",
       "       'tempo', 'valence', 'explicit', 'mode', 'pop', 'rock', 'folk', 'mellow',\n",
       "       'indie', 'rap', 'house', 'r&b', 'stomp and holler', 'singer-songwriter',\n",
       "       'edm', 'quiet storm', 'contemporary', 'christmas', 'funk', 'metal',\n",
       "       'alternative', 'adult standards', 'americana', 'soul', 'blues',\n",
       "       'hip hop', 'motown', 'punk', 'disco', 'other', 'num_tracks',\n",
       "       'track_feat', 'track_remast', 'track_remix', 'album_feat',\n",
       "       'album_deluxe', 'album_best', 'time_sign_0.0', 'time_sign_3.0',\n",
       "       'time_sign_4.0', 'key_0.0', 'key_1.0', 'key_2.0', 'key_3.0', 'key_4.0',\n",
       "       'key_5.0', 'key_6.0', 'key_7.0', 'key_8.0', 'key_9.0', 'key_10.0',\n",
       "       'key_11.0', 'loudness_acousticness', 'loudness_danceability',\n",
       "       'loudness_duration_ms', 'loudness_energy', 'loudness_instrumentalness',\n",
       "       'loudness_liveness', 'loudness_loudness', 'loudness_popularity',\n",
       "       'loudness_speechiness', 'loudness_tempo', 'loudness_valence',\n",
       "       'loudness_num_tracks', 'danceability_speechiness',\n",
       "       'danceability_tempo'],\n",
       "      dtype='object')"
      ]
     },
     "execution_count": 15,
     "metadata": {},
     "output_type": "execute_result"
    }
   ],
   "source": [
    "xtrain.keys()"
   ]
  },
  {
   "cell_type": "code",
   "execution_count": 22,
   "metadata": {
    "collapsed": false
   },
   "outputs": [
    {
     "data": {
      "text/html": [
       "<div>\n",
       "<style>\n",
       "    .dataframe thead tr:only-child th {\n",
       "        text-align: right;\n",
       "    }\n",
       "\n",
       "    .dataframe thead th {\n",
       "        text-align: left;\n",
       "    }\n",
       "\n",
       "    .dataframe tbody tr th {\n",
       "        vertical-align: top;\n",
       "    }\n",
       "</style>\n",
       "<table border=\"1\" class=\"dataframe\">\n",
       "  <thead>\n",
       "    <tr style=\"text-align: right;\">\n",
       "      <th></th>\n",
       "      <th>acousticness</th>\n",
       "      <th>danceability</th>\n",
       "      <th>duration_ms</th>\n",
       "      <th>energy</th>\n",
       "      <th>instrumentalness</th>\n",
       "      <th>liveness</th>\n",
       "      <th>loudness</th>\n",
       "      <th>popularity</th>\n",
       "      <th>speechiness</th>\n",
       "      <th>tempo</th>\n",
       "      <th>...</th>\n",
       "      <th>loudness_instrumentalness</th>\n",
       "      <th>loudness_liveness</th>\n",
       "      <th>loudness_loudness</th>\n",
       "      <th>loudness_popularity</th>\n",
       "      <th>loudness_speechiness</th>\n",
       "      <th>loudness_tempo</th>\n",
       "      <th>loudness_valence</th>\n",
       "      <th>loudness_num_tracks</th>\n",
       "      <th>danceability_speechiness</th>\n",
       "      <th>danceability_tempo</th>\n",
       "    </tr>\n",
       "  </thead>\n",
       "  <tbody>\n",
       "    <tr>\n",
       "      <th>The Lectures of Joseph Campbell</th>\n",
       "      <td>1.914326</td>\n",
       "      <td>0.805940</td>\n",
       "      <td>-0.300561</td>\n",
       "      <td>-1.209740</td>\n",
       "      <td>-0.626113</td>\n",
       "      <td>0.290127</td>\n",
       "      <td>-1.551005</td>\n",
       "      <td>-1.993858</td>\n",
       "      <td>4.752811</td>\n",
       "      <td>-1.784655</td>\n",
       "      <td>...</td>\n",
       "      <td>0.449048</td>\n",
       "      <td>-1.501279</td>\n",
       "      <td>1.231407</td>\n",
       "      <td>1.095162</td>\n",
       "      <td>-4.519393</td>\n",
       "      <td>-1.328513</td>\n",
       "      <td>-1.151351</td>\n",
       "      <td>-2.861372</td>\n",
       "      <td>4.933435</td>\n",
       "      <td>-0.074184</td>\n",
       "    </tr>\n",
       "    <tr>\n",
       "      <th>Sleep</th>\n",
       "      <td>2.089945</td>\n",
       "      <td>-2.184922</td>\n",
       "      <td>-0.455233</td>\n",
       "      <td>-2.280749</td>\n",
       "      <td>3.213206</td>\n",
       "      <td>-1.117550</td>\n",
       "      <td>-2.617642</td>\n",
       "      <td>1.385599</td>\n",
       "      <td>-0.410845</td>\n",
       "      <td>-2.802392</td>\n",
       "      <td>...</td>\n",
       "      <td>-4.172286</td>\n",
       "      <td>-0.578311</td>\n",
       "      <td>2.691203</td>\n",
       "      <td>-5.411374</td>\n",
       "      <td>0.088922</td>\n",
       "      <td>-1.933060</td>\n",
       "      <td>0.426598</td>\n",
       "      <td>-4.148069</td>\n",
       "      <td>-0.516315</td>\n",
       "      <td>-2.620248</td>\n",
       "    </tr>\n",
       "    <tr>\n",
       "      <th>2003</th>\n",
       "      <td>-0.536803</td>\n",
       "      <td>1.003187</td>\n",
       "      <td>-0.062288</td>\n",
       "      <td>0.403546</td>\n",
       "      <td>-0.577884</td>\n",
       "      <td>-0.151649</td>\n",
       "      <td>0.721459</td>\n",
       "      <td>0.509930</td>\n",
       "      <td>0.317690</td>\n",
       "      <td>-0.505737</td>\n",
       "      <td>...</td>\n",
       "      <td>0.439719</td>\n",
       "      <td>0.578602</td>\n",
       "      <td>-0.542088</td>\n",
       "      <td>0.320045</td>\n",
       "      <td>0.131568</td>\n",
       "      <td>0.878313</td>\n",
       "      <td>0.318665</td>\n",
       "      <td>0.530772</td>\n",
       "      <td>0.428819</td>\n",
       "      <td>0.681996</td>\n",
       "    </tr>\n",
       "    <tr>\n",
       "      <th>Eurovision Party</th>\n",
       "      <td>-0.581934</td>\n",
       "      <td>0.490659</td>\n",
       "      <td>-0.499317</td>\n",
       "      <td>0.941749</td>\n",
       "      <td>-0.630808</td>\n",
       "      <td>-0.055174</td>\n",
       "      <td>0.610028</td>\n",
       "      <td>-0.694427</td>\n",
       "      <td>-0.332153</td>\n",
       "      <td>0.772302</td>\n",
       "      <td>...</td>\n",
       "      <td>0.455175</td>\n",
       "      <td>0.464161</td>\n",
       "      <td>-0.497541</td>\n",
       "      <td>0.791629</td>\n",
       "      <td>0.310691</td>\n",
       "      <td>0.576055</td>\n",
       "      <td>-0.185766</td>\n",
       "      <td>0.607172</td>\n",
       "      <td>-0.296450</td>\n",
       "      <td>0.771589</td>\n",
       "    </tr>\n",
       "    <tr>\n",
       "      <th>This Is: George Harrison</th>\n",
       "      <td>-0.211490</td>\n",
       "      <td>-0.092586</td>\n",
       "      <td>-0.150144</td>\n",
       "      <td>0.423427</td>\n",
       "      <td>-0.559870</td>\n",
       "      <td>0.352511</td>\n",
       "      <td>0.219580</td>\n",
       "      <td>-0.644247</td>\n",
       "      <td>-0.466799</td>\n",
       "      <td>0.422486</td>\n",
       "      <td>...</td>\n",
       "      <td>0.424303</td>\n",
       "      <td>-0.019299</td>\n",
       "      <td>-0.306934</td>\n",
       "      <td>0.479102</td>\n",
       "      <td>0.330153</td>\n",
       "      <td>0.120413</td>\n",
       "      <td>-0.602902</td>\n",
       "      <td>0.342487</td>\n",
       "      <td>-0.451446</td>\n",
       "      <td>0.056940</td>\n",
       "    </tr>\n",
       "  </tbody>\n",
       "</table>\n",
       "<p>5 rows × 75 columns</p>\n",
       "</div>"
      ],
      "text/plain": [
       "                                 acousticness  danceability  duration_ms  \\\n",
       "The Lectures of Joseph Campbell      1.914326      0.805940    -0.300561   \n",
       "Sleep                                2.089945     -2.184922    -0.455233   \n",
       "2003                                -0.536803      1.003187    -0.062288   \n",
       "Eurovision Party                    -0.581934      0.490659    -0.499317   \n",
       "This Is: George Harrison            -0.211490     -0.092586    -0.150144   \n",
       "\n",
       "                                   energy  instrumentalness  liveness  \\\n",
       "The Lectures of Joseph Campbell -1.209740         -0.626113  0.290127   \n",
       "Sleep                           -2.280749          3.213206 -1.117550   \n",
       "2003                             0.403546         -0.577884 -0.151649   \n",
       "Eurovision Party                 0.941749         -0.630808 -0.055174   \n",
       "This Is: George Harrison         0.423427         -0.559870  0.352511   \n",
       "\n",
       "                                 loudness  popularity  speechiness     tempo  \\\n",
       "The Lectures of Joseph Campbell -1.551005   -1.993858     4.752811 -1.784655   \n",
       "Sleep                           -2.617642    1.385599    -0.410845 -2.802392   \n",
       "2003                             0.721459    0.509930     0.317690 -0.505737   \n",
       "Eurovision Party                 0.610028   -0.694427    -0.332153  0.772302   \n",
       "This Is: George Harrison         0.219580   -0.644247    -0.466799  0.422486   \n",
       "\n",
       "                                        ...          \\\n",
       "The Lectures of Joseph Campbell         ...           \n",
       "Sleep                                   ...           \n",
       "2003                                    ...           \n",
       "Eurovision Party                        ...           \n",
       "This Is: George Harrison                ...           \n",
       "\n",
       "                                 loudness_instrumentalness  loudness_liveness  \\\n",
       "The Lectures of Joseph Campbell                   0.449048          -1.501279   \n",
       "Sleep                                            -4.172286          -0.578311   \n",
       "2003                                              0.439719           0.578602   \n",
       "Eurovision Party                                  0.455175           0.464161   \n",
       "This Is: George Harrison                          0.424303          -0.019299   \n",
       "\n",
       "                                 loudness_loudness  loudness_popularity  \\\n",
       "The Lectures of Joseph Campbell           1.231407             1.095162   \n",
       "Sleep                                     2.691203            -5.411374   \n",
       "2003                                     -0.542088             0.320045   \n",
       "Eurovision Party                         -0.497541             0.791629   \n",
       "This Is: George Harrison                 -0.306934             0.479102   \n",
       "\n",
       "                                 loudness_speechiness  loudness_tempo  \\\n",
       "The Lectures of Joseph Campbell             -4.519393       -1.328513   \n",
       "Sleep                                        0.088922       -1.933060   \n",
       "2003                                         0.131568        0.878313   \n",
       "Eurovision Party                             0.310691        0.576055   \n",
       "This Is: George Harrison                     0.330153        0.120413   \n",
       "\n",
       "                                 loudness_valence  loudness_num_tracks  \\\n",
       "The Lectures of Joseph Campbell         -1.151351            -2.861372   \n",
       "Sleep                                    0.426598            -4.148069   \n",
       "2003                                     0.318665             0.530772   \n",
       "Eurovision Party                        -0.185766             0.607172   \n",
       "This Is: George Harrison                -0.602902             0.342487   \n",
       "\n",
       "                                 danceability_speechiness  danceability_tempo  \n",
       "The Lectures of Joseph Campbell                  4.933435           -0.074184  \n",
       "Sleep                                           -0.516315           -2.620248  \n",
       "2003                                             0.428819            0.681996  \n",
       "Eurovision Party                                -0.296450            0.771589  \n",
       "This Is: George Harrison                        -0.451446            0.056940  \n",
       "\n",
       "[5 rows x 75 columns]"
      ]
     },
     "execution_count": 22,
     "metadata": {},
     "output_type": "execute_result"
    }
   ],
   "source": [
    "from sklearn.preprocessing import StandardScaler\n",
    "scaler = StandardScaler()\n",
    "scaler.fit(xtrain)\n",
    "xtrain = pd.DataFrame(scaler.transform(xtrain),columns = list(xtrain.keys().values),index = list(xtrain.index.values))\n",
    "xtest = pd.DataFrame(scaler.transform(xtest),columns = list(xtest.keys().values),index = list(xtest.index.values))\n",
    "xtrain.head()"
   ]
  },
  {
   "cell_type": "code",
   "execution_count": 31,
   "metadata": {
    "collapsed": true
   },
   "outputs": [],
   "source": [
    "from sklearn.neural_network import MLPRegressor\n",
    "from sklearn.model_selection import GridSearchCV\n",
    "from sklearn.metrics import mean_squared_error\n",
    "from sklearn.metrics import mean_absolute_error"
   ]
  },
  {
   "cell_type": "code",
   "execution_count": 34,
   "metadata": {
    "collapsed": false
   },
   "outputs": [
    {
     "data": {
      "text/plain": [
       "GridSearchCV(cv=5, error_score='raise',\n",
       "       estimator=MLPRegressor(activation='relu', alpha=0.0001, batch_size='auto', beta_1=0.9,\n",
       "       beta_2=0.999, early_stopping=False, epsilon=1e-08,\n",
       "       hidden_layer_sizes=(100,), learning_rate='constant',\n",
       "       learning_rate_init=0.001, max_iter=500, momentum=0.9,\n",
       "       nesterovs_momentum=True, power_t=0.5, random_state=2, shuffle=True,\n",
       "       solver='adam', tol=0.001, validation_fraction=0.1, verbose=False,\n",
       "       warm_start=False),\n",
       "       fit_params=None, iid=True, n_jobs=-1,\n",
       "       param_grid={'alpha': [0.1, 0.01, 0.001, 0.0001, 1e-05]},\n",
       "       pre_dispatch='2*n_jobs', refit=True, return_train_score=True,\n",
       "       scoring=None, verbose=0)"
      ]
     },
     "execution_count": 34,
     "metadata": {},
     "output_type": "execute_result"
    }
   ],
   "source": [
    "param_grid = {'alpha': [0.1,0.01,0.001,0.0001,0.00001]}\n",
    "\n",
    "mlp = MLPRegressor(random_state=2,tol=0.001,max_iter=500) \n",
    "mlp_cv = GridSearchCV(mlp, param_grid, cv=5, n_jobs=-1)\n",
    "mlp_cv.fit(xtrain, ytrain)"
   ]
  },
  {
   "cell_type": "code",
   "execution_count": 35,
   "metadata": {
    "collapsed": false
   },
   "outputs": [
    {
     "data": {
      "text/plain": [
       "MLPRegressor(activation='relu', alpha=0.1, batch_size='auto', beta_1=0.9,\n",
       "       beta_2=0.999, early_stopping=False, epsilon=1e-08,\n",
       "       hidden_layer_sizes=(100,), learning_rate='constant',\n",
       "       learning_rate_init=0.001, max_iter=500, momentum=0.9,\n",
       "       nesterovs_momentum=True, power_t=0.5, random_state=2, shuffle=True,\n",
       "       solver='adam', tol=0.001, validation_fraction=0.1, verbose=False,\n",
       "       warm_start=False)"
      ]
     },
     "execution_count": 35,
     "metadata": {},
     "output_type": "execute_result"
    }
   ],
   "source": [
    "mlp_cv.best_estimator_"
   ]
  },
  {
   "cell_type": "code",
   "execution_count": 36,
   "metadata": {
    "collapsed": false
   },
   "outputs": [
    {
     "name": "stdout",
     "output_type": "stream",
     "text": [
      "Best Params: \n",
      " {'alpha': 0.1}\n",
      "Score:  0.84074692516\n",
      "MSE:  1.43764742696\n",
      "MAE:  0.867827868439\n"
     ]
    }
   ],
   "source": [
    "print('Best Params: \\n',mlp_cv.best_params_)\n",
    "print('Score: ',mlp_cv.score(xtrain, ytrain))\n",
    "print('MSE: ',mean_squared_error(ytrain, mlp_cv.predict(xtrain)))\n",
    "print('MAE: ',mean_absolute_error(ytrain, mlp_cv.predict(xtrain)))"
   ]
  },
  {
   "cell_type": "markdown",
   "metadata": {},
   "source": [
    "### Adjusting other params\n",
    "\n",
    "1. Number of hidden layers\n",
    "2. Number of perceptrons in each layer\n",
    "3. activation function?"
   ]
  },
  {
   "cell_type": "code",
   "execution_count": 45,
   "metadata": {
    "collapsed": false
   },
   "outputs": [
    {
     "data": {
      "text/plain": [
       "GridSearchCV(cv=5, error_score='raise',\n",
       "       estimator=MLPRegressor(activation='relu', alpha=0.1, batch_size='auto', beta_1=0.9,\n",
       "       beta_2=0.999, early_stopping=False, epsilon=1e-08,\n",
       "       hidden_layer_sizes=(100,), learning_rate='constant',\n",
       "       learning_rate_init=0.001, max_iter=1000, momentum=0.9,\n",
       "       nesterovs_momentum=True, power_t=0.5, random_state=2, shuffle=True,\n",
       "       solver='adam', tol=0.001, validation_fraction=0.1, verbose=False,\n",
       "       warm_start=False),\n",
       "       fit_params=None, iid=True, n_jobs=-1,\n",
       "       param_grid={'activation': ['identity', 'logistic', 'tanh', 'relu'], 'alpha': [0.1, 0.01], 'hidden_layer_sizes': [(50,), (100,), (200,)]},\n",
       "       pre_dispatch='2*n_jobs', refit=True, return_train_score=True,\n",
       "       scoring=None, verbose=0)"
      ]
     },
     "execution_count": 45,
     "metadata": {},
     "output_type": "execute_result"
    }
   ],
   "source": [
    "param_grid = {'activation': ['identity','logistic','tanh','relu'],\n",
    "             'alpha': [0.1,0.01],\n",
    "             'hidden_layer_sizes': [(50,),(100,),(200,)]}\n",
    "\n",
    "mlp2 = MLPRegressor(random_state=2,tol=0.001,max_iter=1000,alpha=0.1) \n",
    "mlp2_cv = GridSearchCV(mlp2, param_grid, cv=5, n_jobs=-1)\n",
    "mlp2_cv.fit(xtrain, ytrain)"
   ]
  },
  {
   "cell_type": "code",
   "execution_count": 46,
   "metadata": {
    "collapsed": false
   },
   "outputs": [
    {
     "name": "stdout",
     "output_type": "stream",
     "text": [
      "Best Params: \n",
      " {'activation': 'logistic', 'alpha': 0.1, 'hidden_layer_sizes': (200,)}\n",
      "Score:  0.533832015869\n",
      "MSE:  4.20830306472\n",
      "MAE:  1.57756670999\n"
     ]
    }
   ],
   "source": [
    "print('Best Params: \\n',mlp2_cv.best_params_)\n",
    "print('Score: ',mlp2_cv.score(xtrain, ytrain))\n",
    "print('MSE: ',mean_squared_error(ytrain, mlp2_cv.predict(xtrain)))\n",
    "print('MAE: ',mean_absolute_error(ytrain, mlp2_cv.predict(xtrain)))"
   ]
  },
  {
   "cell_type": "markdown",
   "metadata": {},
   "source": [
    "### Model evaluation"
   ]
  },
  {
   "cell_type": "code",
   "execution_count": 48,
   "metadata": {
    "collapsed": false
   },
   "outputs": [
    {
     "name": "stdout",
     "output_type": "stream",
     "text": [
      "Score:  0.405613542171\n",
      "MSE:  5.41742503\n",
      "MAE:  1.73443639241\n"
     ]
    }
   ],
   "source": [
    "print('Score: ',mlp2_cv.score(xtest, ytest))\n",
    "print('MSE: ',mean_squared_error(ytest, mlp2_cv.predict(xtest)))\n",
    "print('MAE: ',mean_absolute_error(ytest, mlp2_cv.predict(xtest)))"
   ]
  },
  {
   "cell_type": "code",
   "execution_count": 50,
   "metadata": {
    "collapsed": false
   },
   "outputs": [
    {
     "data": {
      "text/plain": [
       "<matplotlib.legend.Legend at 0x121e74e10>"
      ]
     },
     "execution_count": 50,
     "metadata": {},
     "output_type": "execute_result"
    },
    {
     "data": {
      "image/png": "[encoded data removed]",
      "text/plain": [
       "<matplotlib.figure.Figure at 0x11c1259b0>"
      ]
     },
     "metadata": {},
     "output_type": "display_data"
    }
   ],
   "source": [
    "plt.scatter(ytest, mlp_cv.predict(xtest)-ytest,alpha=0.7,label='Only Fit Alpha')\n",
    "plt.scatter(ytest, mlp2_cv.predict(xtest)-ytest,alpha=0.7,label='Fit all params')\n",
    "plt.axhline(c='red')\n",
    "plt.xlabel('True # Log Followers')\n",
    "plt.ylabel('Residual')\n",
    "plt.title('MLP Model Residuals for Test Set')\n",
    "plt.legend();"
   ]
  },
  {
   "cell_type": "code",
   "execution_count": null,
   "metadata": {
    "collapsed": true
   },
   "outputs": [],
   "source": []
  }
 ],
 "metadata": {
  "kernelspec": {
   "display_name": "Python 3",
   "language": "python",
   "name": "python3"
  },
  "language_info": {
   "codemirror_mode": {
    "name": "ipython",
    "version": 3
   },
   "file_extension": ".py",
   "mimetype": "text/x-python",
   "name": "python",
   "nbconvert_exporter": "python",
   "pygments_lexer": "ipython3",
   "version": "3.6.0"
  }
 },
 "nbformat": 4,
 "nbformat_minor": 2
}
