{
 "cells": [
  {
   "cell_type": "markdown",
   "metadata": {},
   "source": [
    "# Initial EDA \n",
    "- Let's look at stats by playlist"
   ]
  },
  {
   "cell_type": "code",
   "execution_count": 84,
   "metadata": {
    "collapsed": false
   },
   "outputs": [],
   "source": [
    "import spotipy \n",
    "import spotipy.util as util\n",
    "import pandas as pd \n",
    "import numpy as np\n",
    "import matplotlib.pyplot as plt\n",
    "import seaborn.apionly as sns\n",
    "import time\n",
    "\n",
    "token = util.oauth2.SpotifyClientCredentials(client_id='d29d4c8d6bca47c4a890e95a276e37ac', client_secret='a5a967a13a2c4ffdb19d1bb8f8fe2622')\n",
    "cache_token = token.get_access_token()\n",
    "sp = spotipy.Spotify(cache_token)"
   ]
  },
  {
   "cell_type": "code",
   "execution_count": 37,
   "metadata": {
    "collapsed": false
   },
   "outputs": [
    {
     "data": {
      "text/html": [
       "<div>\n",
       "<style>\n",
       "    .dataframe thead tr:only-child th {\n",
       "        text-align: right;\n",
       "    }\n",
       "\n",
       "    .dataframe thead th {\n",
       "        text-align: left;\n",
       "    }\n",
       "\n",
       "    .dataframe tbody tr th {\n",
       "        vertical-align: top;\n",
       "    }\n",
       "</style>\n",
       "<table border=\"1\" class=\"dataframe\">\n",
       "  <thead>\n",
       "    <tr style=\"text-align: right;\">\n",
       "      <th></th>\n",
       "      <th>acousticness</th>\n",
       "      <th>album</th>\n",
       "      <th>album_href</th>\n",
       "      <th>album_id</th>\n",
       "      <th>album_uri</th>\n",
       "      <th>artist</th>\n",
       "      <th>artist_href</th>\n",
       "      <th>artist_id</th>\n",
       "      <th>artist_uri</th>\n",
       "      <th>collaborative</th>\n",
       "      <th>...</th>\n",
       "      <th>snapshot_id</th>\n",
       "      <th>speechiness</th>\n",
       "      <th>tempo</th>\n",
       "      <th>time_signature</th>\n",
       "      <th>track_href</th>\n",
       "      <th>track_id</th>\n",
       "      <th>track_name</th>\n",
       "      <th>track_number</th>\n",
       "      <th>track_uri</th>\n",
       "      <th>valence</th>\n",
       "    </tr>\n",
       "  </thead>\n",
       "  <tbody>\n",
       "    <tr>\n",
       "      <th>0</th>\n",
       "      <td>0.02070</td>\n",
       "      <td>Kids with Cars</td>\n",
       "      <td>https://api.spotify.com/v1/albums/0H4Nrf3GiTuj...</td>\n",
       "      <td>0H4Nrf3GiTuj0yyLsNCVCF</td>\n",
       "      <td>spotify:album:0H4Nrf3GiTuj0yyLsNCVCF</td>\n",
       "      <td>Dallas Smith</td>\n",
       "      <td>https://api.spotify.com/v1/artists/2HgKf6VcQtG...</td>\n",
       "      <td>2HgKf6VcQtGmAKpNXidtiC</td>\n",
       "      <td>spotify:artist:2HgKf6VcQtGmAKpNXidtiC</td>\n",
       "      <td>False</td>\n",
       "      <td>...</td>\n",
       "      <td>5JhAb9vJFF+XYFUWvU5WKt31YS9BycBBBMQV6F2t3ddG3r...</td>\n",
       "      <td>0.0556</td>\n",
       "      <td>166.103</td>\n",
       "      <td>4.0</td>\n",
       "      <td>https://api.spotify.com/v1/tracks/1BxerkjLSTPi...</td>\n",
       "      <td>1BxerkjLSTPiyLzcEyCbcn</td>\n",
       "      <td>Kids with Cars</td>\n",
       "      <td>1</td>\n",
       "      <td>spotify:track:1BxerkjLSTPiyLzcEyCbcn</td>\n",
       "      <td>0.691</td>\n",
       "    </tr>\n",
       "    <tr>\n",
       "      <th>1</th>\n",
       "      <td>0.08690</td>\n",
       "      <td>Montevallo</td>\n",
       "      <td>https://api.spotify.com/v1/albums/0V7c0hnrLUFJ...</td>\n",
       "      <td>0V7c0hnrLUFJyHNtjiAT2E</td>\n",
       "      <td>spotify:album:0V7c0hnrLUFJyHNtjiAT2E</td>\n",
       "      <td>Sam Hunt</td>\n",
       "      <td>https://api.spotify.com/v1/artists/2kucQ9jQwuD...</td>\n",
       "      <td>2kucQ9jQwuD8jWdtR9Ef38</td>\n",
       "      <td>spotify:artist:2kucQ9jQwuD8jWdtR9Ef38</td>\n",
       "      <td>False</td>\n",
       "      <td>...</td>\n",
       "      <td>5JhAb9vJFF+XYFUWvU5WKt31YS9BycBBBMQV6F2t3ddG3r...</td>\n",
       "      <td>0.0416</td>\n",
       "      <td>158.080</td>\n",
       "      <td>4.0</td>\n",
       "      <td>https://api.spotify.com/v1/tracks/6DEaND0SHv3s...</td>\n",
       "      <td>6DEaND0SHv3sC11xobZLiy</td>\n",
       "      <td>Take Your Time</td>\n",
       "      <td>1</td>\n",
       "      <td>spotify:track:6DEaND0SHv3sC11xobZLiy</td>\n",
       "      <td>0.449</td>\n",
       "    </tr>\n",
       "    <tr>\n",
       "      <th>2</th>\n",
       "      <td>0.00908</td>\n",
       "      <td>Love You Like That</td>\n",
       "      <td>https://api.spotify.com/v1/albums/3Q0jr9uSc24I...</td>\n",
       "      <td>3Q0jr9uSc24I6UfZT0cKsg</td>\n",
       "      <td>spotify:album:3Q0jr9uSc24I6UfZT0cKsg</td>\n",
       "      <td>Canaan Smith</td>\n",
       "      <td>https://api.spotify.com/v1/artists/0q2lY1ZzFck...</td>\n",
       "      <td>0q2lY1ZzFckzciuoMtUvck</td>\n",
       "      <td>spotify:artist:0q2lY1ZzFckzciuoMtUvck</td>\n",
       "      <td>False</td>\n",
       "      <td>...</td>\n",
       "      <td>5JhAb9vJFF+XYFUWvU5WKt31YS9BycBBBMQV6F2t3ddG3r...</td>\n",
       "      <td>0.0297</td>\n",
       "      <td>145.096</td>\n",
       "      <td>4.0</td>\n",
       "      <td>https://api.spotify.com/v1/tracks/1OtiKlQ3EALp...</td>\n",
       "      <td>1OtiKlQ3EALplQWw2LF7Xn</td>\n",
       "      <td>Love You Like That</td>\n",
       "      <td>1</td>\n",
       "      <td>spotify:track:1OtiKlQ3EALplQWw2LF7Xn</td>\n",
       "      <td>0.748</td>\n",
       "    </tr>\n",
       "    <tr>\n",
       "      <th>3</th>\n",
       "      <td>0.11200</td>\n",
       "      <td>The B-Sides, 2011-2014</td>\n",
       "      <td>https://api.spotify.com/v1/albums/4B1IUKpspjSV...</td>\n",
       "      <td>4B1IUKpspjSVnqYtcht4WY</td>\n",
       "      <td>spotify:album:4B1IUKpspjSVnqYtcht4WY</td>\n",
       "      <td>Jon Pardi</td>\n",
       "      <td>https://api.spotify.com/v1/artists/4MoAOfV4ROW...</td>\n",
       "      <td>4MoAOfV4ROWofLG3a3hhBN</td>\n",
       "      <td>spotify:artist:4MoAOfV4ROWofLG3a3hhBN</td>\n",
       "      <td>False</td>\n",
       "      <td>...</td>\n",
       "      <td>5JhAb9vJFF+XYFUWvU5WKt31YS9BycBBBMQV6F2t3ddG3r...</td>\n",
       "      <td>0.0333</td>\n",
       "      <td>166.040</td>\n",
       "      <td>4.0</td>\n",
       "      <td>https://api.spotify.com/v1/tracks/6rDaYgIdP4qD...</td>\n",
       "      <td>6rDaYgIdP4qDRYpUlOnlLV</td>\n",
       "      <td>Back On The Backroads</td>\n",
       "      <td>4</td>\n",
       "      <td>spotify:track:6rDaYgIdP4qDRYpUlOnlLV</td>\n",
       "      <td>0.533</td>\n",
       "    </tr>\n",
       "    <tr>\n",
       "      <th>4</th>\n",
       "      <td>0.03440</td>\n",
       "      <td>747</td>\n",
       "      <td>https://api.spotify.com/v1/albums/1JHNRou038Cf...</td>\n",
       "      <td>1JHNRou038CfCC0RZztDz8</td>\n",
       "      <td>spotify:album:1JHNRou038CfCC0RZztDz8</td>\n",
       "      <td>Lady Antebellum</td>\n",
       "      <td>https://api.spotify.com/v1/artists/32WkQRZEVKS...</td>\n",
       "      <td>32WkQRZEVKSzVAAYqukAEA</td>\n",
       "      <td>spotify:artist:32WkQRZEVKSzVAAYqukAEA</td>\n",
       "      <td>False</td>\n",
       "      <td>...</td>\n",
       "      <td>5JhAb9vJFF+XYFUWvU5WKt31YS9BycBBBMQV6F2t3ddG3r...</td>\n",
       "      <td>0.0547</td>\n",
       "      <td>91.042</td>\n",
       "      <td>4.0</td>\n",
       "      <td>https://api.spotify.com/v1/tracks/5TMN7wN8Knzt...</td>\n",
       "      <td>5TMN7wN8Knzt7FYwF2TiFE</td>\n",
       "      <td>Freestyle</td>\n",
       "      <td>4</td>\n",
       "      <td>spotify:track:5TMN7wN8Knzt7FYwF2TiFE</td>\n",
       "      <td>0.917</td>\n",
       "    </tr>\n",
       "  </tbody>\n",
       "</table>\n",
       "<p>5 rows × 37 columns</p>\n",
       "</div>"
      ],
      "text/plain": [
       "   acousticness                   album  \\\n",
       "0       0.02070          Kids with Cars   \n",
       "1       0.08690              Montevallo   \n",
       "2       0.00908      Love You Like That   \n",
       "3       0.11200  The B-Sides, 2011-2014   \n",
       "4       0.03440                     747   \n",
       "\n",
       "                                          album_href                album_id  \\\n",
       "0  https://api.spotify.com/v1/albums/0H4Nrf3GiTuj...  0H4Nrf3GiTuj0yyLsNCVCF   \n",
       "1  https://api.spotify.com/v1/albums/0V7c0hnrLUFJ...  0V7c0hnrLUFJyHNtjiAT2E   \n",
       "2  https://api.spotify.com/v1/albums/3Q0jr9uSc24I...  3Q0jr9uSc24I6UfZT0cKsg   \n",
       "3  https://api.spotify.com/v1/albums/4B1IUKpspjSV...  4B1IUKpspjSVnqYtcht4WY   \n",
       "4  https://api.spotify.com/v1/albums/1JHNRou038Cf...  1JHNRou038CfCC0RZztDz8   \n",
       "\n",
       "                              album_uri           artist  \\\n",
       "0  spotify:album:0H4Nrf3GiTuj0yyLsNCVCF     Dallas Smith   \n",
       "1  spotify:album:0V7c0hnrLUFJyHNtjiAT2E         Sam Hunt   \n",
       "2  spotify:album:3Q0jr9uSc24I6UfZT0cKsg     Canaan Smith   \n",
       "3  spotify:album:4B1IUKpspjSVnqYtcht4WY        Jon Pardi   \n",
       "4  spotify:album:1JHNRou038CfCC0RZztDz8  Lady Antebellum   \n",
       "\n",
       "                                         artist_href               artist_id  \\\n",
       "0  https://api.spotify.com/v1/artists/2HgKf6VcQtG...  2HgKf6VcQtGmAKpNXidtiC   \n",
       "1  https://api.spotify.com/v1/artists/2kucQ9jQwuD...  2kucQ9jQwuD8jWdtR9Ef38   \n",
       "2  https://api.spotify.com/v1/artists/0q2lY1ZzFck...  0q2lY1ZzFckzciuoMtUvck   \n",
       "3  https://api.spotify.com/v1/artists/4MoAOfV4ROW...  4MoAOfV4ROWofLG3a3hhBN   \n",
       "4  https://api.spotify.com/v1/artists/32WkQRZEVKS...  32WkQRZEVKSzVAAYqukAEA   \n",
       "\n",
       "                              artist_uri  collaborative   ...     \\\n",
       "0  spotify:artist:2HgKf6VcQtGmAKpNXidtiC          False   ...      \n",
       "1  spotify:artist:2kucQ9jQwuD8jWdtR9Ef38          False   ...      \n",
       "2  spotify:artist:0q2lY1ZzFckzciuoMtUvck          False   ...      \n",
       "3  spotify:artist:4MoAOfV4ROWofLG3a3hhBN          False   ...      \n",
       "4  spotify:artist:32WkQRZEVKSzVAAYqukAEA          False   ...      \n",
       "\n",
       "                                         snapshot_id speechiness    tempo  \\\n",
       "0  5JhAb9vJFF+XYFUWvU5WKt31YS9BycBBBMQV6F2t3ddG3r...      0.0556  166.103   \n",
       "1  5JhAb9vJFF+XYFUWvU5WKt31YS9BycBBBMQV6F2t3ddG3r...      0.0416  158.080   \n",
       "2  5JhAb9vJFF+XYFUWvU5WKt31YS9BycBBBMQV6F2t3ddG3r...      0.0297  145.096   \n",
       "3  5JhAb9vJFF+XYFUWvU5WKt31YS9BycBBBMQV6F2t3ddG3r...      0.0333  166.040   \n",
       "4  5JhAb9vJFF+XYFUWvU5WKt31YS9BycBBBMQV6F2t3ddG3r...      0.0547   91.042   \n",
       "\n",
       "   time_signature                                         track_href  \\\n",
       "0             4.0  https://api.spotify.com/v1/tracks/1BxerkjLSTPi...   \n",
       "1             4.0  https://api.spotify.com/v1/tracks/6DEaND0SHv3s...   \n",
       "2             4.0  https://api.spotify.com/v1/tracks/1OtiKlQ3EALp...   \n",
       "3             4.0  https://api.spotify.com/v1/tracks/6rDaYgIdP4qD...   \n",
       "4             4.0  https://api.spotify.com/v1/tracks/5TMN7wN8Knzt...   \n",
       "\n",
       "                 track_id             track_name  track_number  \\\n",
       "0  1BxerkjLSTPiyLzcEyCbcn         Kids with Cars             1   \n",
       "1  6DEaND0SHv3sC11xobZLiy         Take Your Time             1   \n",
       "2  1OtiKlQ3EALplQWw2LF7Xn     Love You Like That             1   \n",
       "3  6rDaYgIdP4qDRYpUlOnlLV  Back On The Backroads             4   \n",
       "4  5TMN7wN8Knzt7FYwF2TiFE              Freestyle             4   \n",
       "\n",
       "                              track_uri  valence  \n",
       "0  spotify:track:1BxerkjLSTPiyLzcEyCbcn    0.691  \n",
       "1  spotify:track:6DEaND0SHv3sC11xobZLiy    0.449  \n",
       "2  spotify:track:1OtiKlQ3EALplQWw2LF7Xn    0.748  \n",
       "3  spotify:track:6rDaYgIdP4qDRYpUlOnlLV    0.533  \n",
       "4  spotify:track:5TMN7wN8Knzt7FYwF2TiFE    0.917  \n",
       "\n",
       "[5 rows x 37 columns]"
      ]
     },
     "execution_count": 37,
     "metadata": {},
     "output_type": "execute_result"
    }
   ],
   "source": [
    "df = pd.read_csv('spotify.csv').drop('Unnamed: 0',1)\n",
    "keys = list(df)\n",
    "df.head()"
   ]
  },
  {
   "cell_type": "code",
   "execution_count": 45,
   "metadata": {
    "collapsed": false
   },
   "outputs": [
    {
     "data": {
      "text/plain": [
       "20447"
      ]
     },
     "execution_count": 45,
     "metadata": {},
     "output_type": "execute_result"
    }
   ],
   "source": [
    "df['artist'].nunique()"
   ]
  },
  {
   "cell_type": "code",
   "execution_count": 43,
   "metadata": {
    "collapsed": false
   },
   "outputs": [
    {
     "data": {
      "text/plain": [
       "['canadian country',\n",
       " 'contemporary country',\n",
       " 'country',\n",
       " 'country road',\n",
       " 'lift kit',\n",
       " 'modern country rock']"
      ]
     },
     "execution_count": 43,
     "metadata": {},
     "output_type": "execute_result"
    }
   ],
   "source": [
    "artist_dict['genres']"
   ]
  },
  {
   "cell_type": "code",
   "execution_count": 59,
   "metadata": {
    "collapsed": true
   },
   "outputs": [],
   "source": [
    "def get_genre_playlist(playlist_df):\n",
    "    artist_ids = playlist_df['artist_id'].values\n",
    "    genre_list = []\n",
    "    for artist_id in artist_ids:\n",
    "        artist_dict = sp.artist(artist_id)\n",
    "        genres = artist_dict['genres']\n",
    "        genre_list.append(genres)\n",
    "    genres = np.hstack(genre_list)\n",
    "    uni_genre, genre_count = np.unique(genres,return_counts=True)\n",
    "    sort_ind = np.argsort(genre_count)[::-1]\n",
    "    return uni_genre[sort_ind],genre_count[sort_ind]\n",
    "    "
   ]
  },
  {
   "cell_type": "code",
   "execution_count": 60,
   "metadata": {
    "collapsed": false
   },
   "outputs": [
    {
     "name": "stdout",
     "output_type": "stream",
     "text": [
      "retrying ...1secs\n",
      "retrying ...1secs\n",
      "retrying ...1secs\n",
      "retrying ...1secs\n",
      "retrying ...1secs\n",
      "retrying ...1secs\n",
      "retrying ...1secs\n",
      "retrying ...1secs\n",
      "retrying ...1secs\n",
      "retrying ...1secs\n",
      "retrying ...1secs\n",
      "retrying ...1secs\n",
      "retrying ...1secs\n",
      "retrying ...1secs\n",
      "retrying ...1secs\n",
      "retrying ...1secs\n",
      "retrying ...1secs\n"
     ]
    },
    {
     "ename": "ConnectionError",
     "evalue": "HTTPSConnectionPool(host='api.spotify.com', port=443): Max retries exceeded with url: /v1/artists/4Cjsh7anKDaMnQ3YHB1Xwq (Caused by NewConnectionError('<urllib3.connection.VerifiedHTTPSConnection object at 0x118d3db70>: Failed to establish a new connection: [Errno 50] Network is down',))",
     "output_type": "error",
     "traceback": [
      "\u001b[0;31m---------------------------------------------------------------------------\u001b[0m",
      "\u001b[0;31mOSError\u001b[0m                                   Traceback (most recent call last)",
      "\u001b[0;32m/Users/thclements/anaconda3/lib/python3.5/site-packages/urllib3/connection.py\u001b[0m in \u001b[0;36m_new_conn\u001b[0;34m(self)\u001b[0m\n\u001b[1;32m    140\u001b[0m             conn = connection.create_connection(\n\u001b[0;32m--> 141\u001b[0;31m                 (self.host, self.port), self.timeout, **extra_kw)\n\u001b[0m\u001b[1;32m    142\u001b[0m \u001b[0;34m\u001b[0m\u001b[0m\n",
      "\u001b[0;32m/Users/thclements/anaconda3/lib/python3.5/site-packages/urllib3/util/connection.py\u001b[0m in \u001b[0;36mcreate_connection\u001b[0;34m(address, timeout, source_address, socket_options)\u001b[0m\n\u001b[1;32m     82\u001b[0m     \u001b[0;32mif\u001b[0m \u001b[0merr\u001b[0m \u001b[0;32mis\u001b[0m \u001b[0;32mnot\u001b[0m \u001b[0;32mNone\u001b[0m\u001b[0;34m:\u001b[0m\u001b[0;34m\u001b[0m\u001b[0m\n\u001b[0;32m---> 83\u001b[0;31m         \u001b[0;32mraise\u001b[0m \u001b[0merr\u001b[0m\u001b[0;34m\u001b[0m\u001b[0m\n\u001b[0m\u001b[1;32m     84\u001b[0m \u001b[0;34m\u001b[0m\u001b[0m\n",
      "\u001b[0;32m/Users/thclements/anaconda3/lib/python3.5/site-packages/urllib3/util/connection.py\u001b[0m in \u001b[0;36mcreate_connection\u001b[0;34m(address, timeout, source_address, socket_options)\u001b[0m\n\u001b[1;32m     72\u001b[0m                 \u001b[0msock\u001b[0m\u001b[0;34m.\u001b[0m\u001b[0mbind\u001b[0m\u001b[0;34m(\u001b[0m\u001b[0msource_address\u001b[0m\u001b[0;34m)\u001b[0m\u001b[0;34m\u001b[0m\u001b[0m\n\u001b[0;32m---> 73\u001b[0;31m             \u001b[0msock\u001b[0m\u001b[0;34m.\u001b[0m\u001b[0mconnect\u001b[0m\u001b[0;34m(\u001b[0m\u001b[0msa\u001b[0m\u001b[0;34m)\u001b[0m\u001b[0;34m\u001b[0m\u001b[0m\n\u001b[0m\u001b[1;32m     74\u001b[0m             \u001b[0;32mreturn\u001b[0m \u001b[0msock\u001b[0m\u001b[0;34m\u001b[0m\u001b[0m\n",
      "\u001b[0;31mOSError\u001b[0m: [Errno 50] Network is down",
      "\nDuring handling of the above exception, another exception occurred:\n",
      "\u001b[0;31mNewConnectionError\u001b[0m                        Traceback (most recent call last)",
      "\u001b[0;32m/Users/thclements/anaconda3/lib/python3.5/site-packages/urllib3/connectionpool.py\u001b[0m in \u001b[0;36murlopen\u001b[0;34m(self, method, url, body, headers, retries, redirect, assert_same_host, timeout, pool_timeout, release_conn, chunked, body_pos, **response_kw)\u001b[0m\n\u001b[1;32m    600\u001b[0m                                                   \u001b[0mbody\u001b[0m\u001b[0;34m=\u001b[0m\u001b[0mbody\u001b[0m\u001b[0;34m,\u001b[0m \u001b[0mheaders\u001b[0m\u001b[0;34m=\u001b[0m\u001b[0mheaders\u001b[0m\u001b[0;34m,\u001b[0m\u001b[0;34m\u001b[0m\u001b[0m\n\u001b[0;32m--> 601\u001b[0;31m                                                   chunked=chunked)\n\u001b[0m\u001b[1;32m    602\u001b[0m \u001b[0;34m\u001b[0m\u001b[0m\n",
      "\u001b[0;32m/Users/thclements/anaconda3/lib/python3.5/site-packages/urllib3/connectionpool.py\u001b[0m in \u001b[0;36m_make_request\u001b[0;34m(self, conn, method, url, timeout, chunked, **httplib_request_kw)\u001b[0m\n\u001b[1;32m    345\u001b[0m         \u001b[0;32mtry\u001b[0m\u001b[0;34m:\u001b[0m\u001b[0;34m\u001b[0m\u001b[0m\n\u001b[0;32m--> 346\u001b[0;31m             \u001b[0mself\u001b[0m\u001b[0;34m.\u001b[0m\u001b[0m_validate_conn\u001b[0m\u001b[0;34m(\u001b[0m\u001b[0mconn\u001b[0m\u001b[0;34m)\u001b[0m\u001b[0;34m\u001b[0m\u001b[0m\n\u001b[0m\u001b[1;32m    347\u001b[0m         \u001b[0;32mexcept\u001b[0m \u001b[0;34m(\u001b[0m\u001b[0mSocketTimeout\u001b[0m\u001b[0;34m,\u001b[0m \u001b[0mBaseSSLError\u001b[0m\u001b[0;34m)\u001b[0m \u001b[0;32mas\u001b[0m \u001b[0me\u001b[0m\u001b[0;34m:\u001b[0m\u001b[0;34m\u001b[0m\u001b[0m\n",
      "\u001b[0;32m/Users/thclements/anaconda3/lib/python3.5/site-packages/urllib3/connectionpool.py\u001b[0m in \u001b[0;36m_validate_conn\u001b[0;34m(self, conn)\u001b[0m\n\u001b[1;32m    849\u001b[0m         \u001b[0;32mif\u001b[0m \u001b[0;32mnot\u001b[0m \u001b[0mgetattr\u001b[0m\u001b[0;34m(\u001b[0m\u001b[0mconn\u001b[0m\u001b[0;34m,\u001b[0m \u001b[0;34m'sock'\u001b[0m\u001b[0;34m,\u001b[0m \u001b[0;32mNone\u001b[0m\u001b[0;34m)\u001b[0m\u001b[0;34m:\u001b[0m  \u001b[0;31m# AppEngine might not have  `.sock`\u001b[0m\u001b[0;34m\u001b[0m\u001b[0m\n\u001b[0;32m--> 850\u001b[0;31m             \u001b[0mconn\u001b[0m\u001b[0;34m.\u001b[0m\u001b[0mconnect\u001b[0m\u001b[0;34m(\u001b[0m\u001b[0;34m)\u001b[0m\u001b[0;34m\u001b[0m\u001b[0m\n\u001b[0m\u001b[1;32m    851\u001b[0m \u001b[0;34m\u001b[0m\u001b[0m\n",
      "\u001b[0;32m/Users/thclements/anaconda3/lib/python3.5/site-packages/urllib3/connection.py\u001b[0m in \u001b[0;36mconnect\u001b[0;34m(self)\u001b[0m\n\u001b[1;32m    283\u001b[0m         \u001b[0;31m# Add certificate verification\u001b[0m\u001b[0;34m\u001b[0m\u001b[0;34m\u001b[0m\u001b[0m\n\u001b[0;32m--> 284\u001b[0;31m         \u001b[0mconn\u001b[0m \u001b[0;34m=\u001b[0m \u001b[0mself\u001b[0m\u001b[0;34m.\u001b[0m\u001b[0m_new_conn\u001b[0m\u001b[0;34m(\u001b[0m\u001b[0;34m)\u001b[0m\u001b[0;34m\u001b[0m\u001b[0m\n\u001b[0m\u001b[1;32m    285\u001b[0m \u001b[0;34m\u001b[0m\u001b[0m\n",
      "\u001b[0;32m/Users/thclements/anaconda3/lib/python3.5/site-packages/urllib3/connection.py\u001b[0m in \u001b[0;36m_new_conn\u001b[0;34m(self)\u001b[0m\n\u001b[1;32m    149\u001b[0m             raise NewConnectionError(\n\u001b[0;32m--> 150\u001b[0;31m                 self, \"Failed to establish a new connection: %s\" % e)\n\u001b[0m\u001b[1;32m    151\u001b[0m \u001b[0;34m\u001b[0m\u001b[0m\n",
      "\u001b[0;31mNewConnectionError\u001b[0m: <urllib3.connection.VerifiedHTTPSConnection object at 0x118d3db70>: Failed to establish a new connection: [Errno 50] Network is down",
      "\nDuring handling of the above exception, another exception occurred:\n",
      "\u001b[0;31mMaxRetryError\u001b[0m                             Traceback (most recent call last)",
      "\u001b[0;32m/Users/thclements/anaconda3/lib/python3.5/site-packages/requests/adapters.py\u001b[0m in \u001b[0;36msend\u001b[0;34m(self, request, stream, timeout, verify, cert, proxies)\u001b[0m\n\u001b[1;32m    439\u001b[0m                     \u001b[0mretries\u001b[0m\u001b[0;34m=\u001b[0m\u001b[0mself\u001b[0m\u001b[0;34m.\u001b[0m\u001b[0mmax_retries\u001b[0m\u001b[0;34m,\u001b[0m\u001b[0;34m\u001b[0m\u001b[0m\n\u001b[0;32m--> 440\u001b[0;31m                     \u001b[0mtimeout\u001b[0m\u001b[0;34m=\u001b[0m\u001b[0mtimeout\u001b[0m\u001b[0;34m\u001b[0m\u001b[0m\n\u001b[0m\u001b[1;32m    441\u001b[0m                 )\n",
      "\u001b[0;32m/Users/thclements/anaconda3/lib/python3.5/site-packages/urllib3/connectionpool.py\u001b[0m in \u001b[0;36murlopen\u001b[0;34m(self, method, url, body, headers, retries, redirect, assert_same_host, timeout, pool_timeout, release_conn, chunked, body_pos, **response_kw)\u001b[0m\n\u001b[1;32m    638\u001b[0m             retries = retries.increment(method, url, error=e, _pool=self,\n\u001b[0;32m--> 639\u001b[0;31m                                         _stacktrace=sys.exc_info()[2])\n\u001b[0m\u001b[1;32m    640\u001b[0m             \u001b[0mretries\u001b[0m\u001b[0;34m.\u001b[0m\u001b[0msleep\u001b[0m\u001b[0;34m(\u001b[0m\u001b[0;34m)\u001b[0m\u001b[0;34m\u001b[0m\u001b[0m\n",
      "\u001b[0;32m/Users/thclements/anaconda3/lib/python3.5/site-packages/urllib3/util/retry.py\u001b[0m in \u001b[0;36mincrement\u001b[0;34m(self, method, url, response, error, _pool, _stacktrace)\u001b[0m\n\u001b[1;32m    387\u001b[0m         \u001b[0;32mif\u001b[0m \u001b[0mnew_retry\u001b[0m\u001b[0;34m.\u001b[0m\u001b[0mis_exhausted\u001b[0m\u001b[0;34m(\u001b[0m\u001b[0;34m)\u001b[0m\u001b[0;34m:\u001b[0m\u001b[0;34m\u001b[0m\u001b[0m\n\u001b[0;32m--> 388\u001b[0;31m             \u001b[0;32mraise\u001b[0m \u001b[0mMaxRetryError\u001b[0m\u001b[0;34m(\u001b[0m\u001b[0m_pool\u001b[0m\u001b[0;34m,\u001b[0m \u001b[0murl\u001b[0m\u001b[0;34m,\u001b[0m \u001b[0merror\u001b[0m \u001b[0;32mor\u001b[0m \u001b[0mResponseError\u001b[0m\u001b[0;34m(\u001b[0m\u001b[0mcause\u001b[0m\u001b[0;34m)\u001b[0m\u001b[0;34m)\u001b[0m\u001b[0;34m\u001b[0m\u001b[0m\n\u001b[0m\u001b[1;32m    389\u001b[0m \u001b[0;34m\u001b[0m\u001b[0m\n",
      "\u001b[0;31mMaxRetryError\u001b[0m: HTTPSConnectionPool(host='api.spotify.com', port=443): Max retries exceeded with url: /v1/artists/4Cjsh7anKDaMnQ3YHB1Xwq (Caused by NewConnectionError('<urllib3.connection.VerifiedHTTPSConnection object at 0x118d3db70>: Failed to establish a new connection: [Errno 50] Network is down',))",
      "\nDuring handling of the above exception, another exception occurred:\n",
      "\u001b[0;31mConnectionError\u001b[0m                           Traceback (most recent call last)",
      "\u001b[0;32m<ipython-input-60-e9c1c6048119>\u001b[0m in \u001b[0;36m<module>\u001b[0;34m()\u001b[0m\n\u001b[1;32m      7\u001b[0m     \u001b[0mp1\u001b[0m\u001b[0;34m[\u001b[0m\u001b[0;34m'songs_per_playlist'\u001b[0m\u001b[0;34m]\u001b[0m \u001b[0;34m=\u001b[0m \u001b[0mlen\u001b[0m\u001b[0;34m(\u001b[0m\u001b[0mp_df\u001b[0m\u001b[0;34m)\u001b[0m\u001b[0;34m\u001b[0m\u001b[0m\n\u001b[1;32m      8\u001b[0m     \u001b[0mp1\u001b[0m\u001b[0;34m[\u001b[0m\u001b[0;34m'num_artists'\u001b[0m\u001b[0;34m]\u001b[0m \u001b[0;34m=\u001b[0m \u001b[0mp_df\u001b[0m\u001b[0;34m[\u001b[0m\u001b[0;34m'artist'\u001b[0m\u001b[0;34m]\u001b[0m\u001b[0;34m.\u001b[0m\u001b[0mnunique\u001b[0m\u001b[0;34m(\u001b[0m\u001b[0;34m)\u001b[0m\u001b[0;34m\u001b[0m\u001b[0m\n\u001b[0;32m----> 9\u001b[0;31m     \u001b[0mgenres\u001b[0m\u001b[0;34m,\u001b[0m\u001b[0mcount\u001b[0m \u001b[0;34m=\u001b[0m \u001b[0mget_genre_playlist\u001b[0m\u001b[0;34m(\u001b[0m\u001b[0mp_df\u001b[0m\u001b[0;34m)\u001b[0m\u001b[0;34m\u001b[0m\u001b[0m\n\u001b[0m\u001b[1;32m     10\u001b[0m     \u001b[0mp1\u001b[0m\u001b[0;34m[\u001b[0m\u001b[0;34m'genre'\u001b[0m\u001b[0;34m]\u001b[0m \u001b[0;34m=\u001b[0m \u001b[0mgenres\u001b[0m\u001b[0;34m[\u001b[0m\u001b[0;36m0\u001b[0m\u001b[0;34m]\u001b[0m\u001b[0;34m\u001b[0m\u001b[0m\n\u001b[1;32m     11\u001b[0m     \u001b[0mplaylists\u001b[0m \u001b[0;34m=\u001b[0m \u001b[0mplaylists\u001b[0m\u001b[0;34m.\u001b[0m\u001b[0mappend\u001b[0m\u001b[0;34m(\u001b[0m\u001b[0mp1\u001b[0m\u001b[0;34m)\u001b[0m\u001b[0;34m\u001b[0m\u001b[0m\n",
      "\u001b[0;32m<ipython-input-59-e817b66fb4a6>\u001b[0m in \u001b[0;36mget_genre_playlist\u001b[0;34m(playlist_df)\u001b[0m\n\u001b[1;32m      3\u001b[0m     \u001b[0mgenre_list\u001b[0m \u001b[0;34m=\u001b[0m \u001b[0;34m[\u001b[0m\u001b[0;34m]\u001b[0m\u001b[0;34m\u001b[0m\u001b[0m\n\u001b[1;32m      4\u001b[0m     \u001b[0;32mfor\u001b[0m \u001b[0martist_id\u001b[0m \u001b[0;32min\u001b[0m \u001b[0martist_ids\u001b[0m\u001b[0;34m:\u001b[0m\u001b[0;34m\u001b[0m\u001b[0m\n\u001b[0;32m----> 5\u001b[0;31m         \u001b[0martist_dict\u001b[0m \u001b[0;34m=\u001b[0m \u001b[0msp\u001b[0m\u001b[0;34m.\u001b[0m\u001b[0martist\u001b[0m\u001b[0;34m(\u001b[0m\u001b[0martist_id\u001b[0m\u001b[0;34m)\u001b[0m\u001b[0;34m\u001b[0m\u001b[0m\n\u001b[0m\u001b[1;32m      6\u001b[0m         \u001b[0mgenres\u001b[0m \u001b[0;34m=\u001b[0m \u001b[0martist_dict\u001b[0m\u001b[0;34m[\u001b[0m\u001b[0;34m'genres'\u001b[0m\u001b[0;34m]\u001b[0m\u001b[0;34m\u001b[0m\u001b[0m\n\u001b[1;32m      7\u001b[0m         \u001b[0mgenre_list\u001b[0m\u001b[0;34m.\u001b[0m\u001b[0mappend\u001b[0m\u001b[0;34m(\u001b[0m\u001b[0mgenres\u001b[0m\u001b[0;34m)\u001b[0m\u001b[0;34m\u001b[0m\u001b[0m\n",
      "\u001b[0;32m/Users/thclements/anaconda3/lib/python3.5/site-packages/spotipy/client.py\u001b[0m in \u001b[0;36martist\u001b[0;34m(self, artist_id)\u001b[0m\n\u001b[1;32m    242\u001b[0m \u001b[0;34m\u001b[0m\u001b[0m\n\u001b[1;32m    243\u001b[0m         \u001b[0mtrid\u001b[0m \u001b[0;34m=\u001b[0m \u001b[0mself\u001b[0m\u001b[0;34m.\u001b[0m\u001b[0m_get_id\u001b[0m\u001b[0;34m(\u001b[0m\u001b[0;34m'artist'\u001b[0m\u001b[0;34m,\u001b[0m \u001b[0martist_id\u001b[0m\u001b[0;34m)\u001b[0m\u001b[0;34m\u001b[0m\u001b[0m\n\u001b[0;32m--> 244\u001b[0;31m         \u001b[0;32mreturn\u001b[0m \u001b[0mself\u001b[0m\u001b[0;34m.\u001b[0m\u001b[0m_get\u001b[0m\u001b[0;34m(\u001b[0m\u001b[0;34m'artists/'\u001b[0m \u001b[0;34m+\u001b[0m \u001b[0mtrid\u001b[0m\u001b[0;34m)\u001b[0m\u001b[0;34m\u001b[0m\u001b[0m\n\u001b[0m\u001b[1;32m    245\u001b[0m \u001b[0;34m\u001b[0m\u001b[0m\n\u001b[1;32m    246\u001b[0m     \u001b[0;32mdef\u001b[0m \u001b[0martists\u001b[0m\u001b[0;34m(\u001b[0m\u001b[0mself\u001b[0m\u001b[0;34m,\u001b[0m \u001b[0martists\u001b[0m\u001b[0;34m)\u001b[0m\u001b[0;34m:\u001b[0m\u001b[0;34m\u001b[0m\u001b[0m\n",
      "\u001b[0;32m/Users/thclements/anaconda3/lib/python3.5/site-packages/spotipy/client.py\u001b[0m in \u001b[0;36m_get\u001b[0;34m(self, url, args, payload, **kwargs)\u001b[0m\n\u001b[1;32m    144\u001b[0m         \u001b[0;32mwhile\u001b[0m \u001b[0mretries\u001b[0m \u001b[0;34m>\u001b[0m \u001b[0;36m0\u001b[0m\u001b[0;34m:\u001b[0m\u001b[0;34m\u001b[0m\u001b[0m\n\u001b[1;32m    145\u001b[0m             \u001b[0;32mtry\u001b[0m\u001b[0;34m:\u001b[0m\u001b[0;34m\u001b[0m\u001b[0m\n\u001b[0;32m--> 146\u001b[0;31m                 \u001b[0;32mreturn\u001b[0m \u001b[0mself\u001b[0m\u001b[0;34m.\u001b[0m\u001b[0m_internal_call\u001b[0m\u001b[0;34m(\u001b[0m\u001b[0;34m'GET'\u001b[0m\u001b[0;34m,\u001b[0m \u001b[0murl\u001b[0m\u001b[0;34m,\u001b[0m \u001b[0mpayload\u001b[0m\u001b[0;34m,\u001b[0m \u001b[0mkwargs\u001b[0m\u001b[0;34m)\u001b[0m\u001b[0;34m\u001b[0m\u001b[0m\n\u001b[0m\u001b[1;32m    147\u001b[0m             \u001b[0;32mexcept\u001b[0m \u001b[0mSpotifyException\u001b[0m \u001b[0;32mas\u001b[0m \u001b[0me\u001b[0m\u001b[0;34m:\u001b[0m\u001b[0;34m\u001b[0m\u001b[0m\n\u001b[1;32m    148\u001b[0m                 \u001b[0mretries\u001b[0m \u001b[0;34m-=\u001b[0m \u001b[0;36m1\u001b[0m\u001b[0;34m\u001b[0m\u001b[0m\n",
      "\u001b[0;32m/Users/thclements/anaconda3/lib/python3.5/site-packages/spotipy/client.py\u001b[0m in \u001b[0;36m_internal_call\u001b[0;34m(self, method, url, payload, params)\u001b[0m\n\u001b[1;32m    106\u001b[0m         \u001b[0;32mif\u001b[0m \u001b[0mself\u001b[0m\u001b[0;34m.\u001b[0m\u001b[0mtrace_out\u001b[0m\u001b[0;34m:\u001b[0m\u001b[0;34m\u001b[0m\u001b[0m\n\u001b[1;32m    107\u001b[0m             \u001b[0mprint\u001b[0m\u001b[0;34m(\u001b[0m\u001b[0murl\u001b[0m\u001b[0;34m)\u001b[0m\u001b[0;34m\u001b[0m\u001b[0m\n\u001b[0;32m--> 108\u001b[0;31m         \u001b[0mr\u001b[0m \u001b[0;34m=\u001b[0m \u001b[0mself\u001b[0m\u001b[0;34m.\u001b[0m\u001b[0m_session\u001b[0m\u001b[0;34m.\u001b[0m\u001b[0mrequest\u001b[0m\u001b[0;34m(\u001b[0m\u001b[0mmethod\u001b[0m\u001b[0;34m,\u001b[0m \u001b[0murl\u001b[0m\u001b[0;34m,\u001b[0m \u001b[0mheaders\u001b[0m\u001b[0;34m=\u001b[0m\u001b[0mheaders\u001b[0m\u001b[0;34m,\u001b[0m \u001b[0mproxies\u001b[0m\u001b[0;34m=\u001b[0m\u001b[0mself\u001b[0m\u001b[0;34m.\u001b[0m\u001b[0mproxies\u001b[0m\u001b[0;34m,\u001b[0m \u001b[0;34m**\u001b[0m\u001b[0margs\u001b[0m\u001b[0;34m)\u001b[0m\u001b[0;34m\u001b[0m\u001b[0m\n\u001b[0m\u001b[1;32m    109\u001b[0m \u001b[0;34m\u001b[0m\u001b[0m\n\u001b[1;32m    110\u001b[0m         \u001b[0;32mif\u001b[0m \u001b[0mself\u001b[0m\u001b[0;34m.\u001b[0m\u001b[0mtrace\u001b[0m\u001b[0;34m:\u001b[0m  \u001b[0;31m# pragma: no cover\u001b[0m\u001b[0;34m\u001b[0m\u001b[0m\n",
      "\u001b[0;32m/Users/thclements/anaconda3/lib/python3.5/site-packages/requests/sessions.py\u001b[0m in \u001b[0;36mrequest\u001b[0;34m(self, method, url, params, data, headers, cookies, files, auth, timeout, allow_redirects, proxies, hooks, stream, verify, cert, json)\u001b[0m\n\u001b[1;32m    506\u001b[0m         }\n\u001b[1;32m    507\u001b[0m         \u001b[0msend_kwargs\u001b[0m\u001b[0;34m.\u001b[0m\u001b[0mupdate\u001b[0m\u001b[0;34m(\u001b[0m\u001b[0msettings\u001b[0m\u001b[0;34m)\u001b[0m\u001b[0;34m\u001b[0m\u001b[0m\n\u001b[0;32m--> 508\u001b[0;31m         \u001b[0mresp\u001b[0m \u001b[0;34m=\u001b[0m \u001b[0mself\u001b[0m\u001b[0;34m.\u001b[0m\u001b[0msend\u001b[0m\u001b[0;34m(\u001b[0m\u001b[0mprep\u001b[0m\u001b[0;34m,\u001b[0m \u001b[0;34m**\u001b[0m\u001b[0msend_kwargs\u001b[0m\u001b[0;34m)\u001b[0m\u001b[0;34m\u001b[0m\u001b[0m\n\u001b[0m\u001b[1;32m    509\u001b[0m \u001b[0;34m\u001b[0m\u001b[0m\n\u001b[1;32m    510\u001b[0m         \u001b[0;32mreturn\u001b[0m \u001b[0mresp\u001b[0m\u001b[0;34m\u001b[0m\u001b[0m\n",
      "\u001b[0;32m/Users/thclements/anaconda3/lib/python3.5/site-packages/requests/sessions.py\u001b[0m in \u001b[0;36msend\u001b[0;34m(self, request, **kwargs)\u001b[0m\n\u001b[1;32m    616\u001b[0m \u001b[0;34m\u001b[0m\u001b[0m\n\u001b[1;32m    617\u001b[0m         \u001b[0;31m# Send the request\u001b[0m\u001b[0;34m\u001b[0m\u001b[0;34m\u001b[0m\u001b[0m\n\u001b[0;32m--> 618\u001b[0;31m         \u001b[0mr\u001b[0m \u001b[0;34m=\u001b[0m \u001b[0madapter\u001b[0m\u001b[0;34m.\u001b[0m\u001b[0msend\u001b[0m\u001b[0;34m(\u001b[0m\u001b[0mrequest\u001b[0m\u001b[0;34m,\u001b[0m \u001b[0;34m**\u001b[0m\u001b[0mkwargs\u001b[0m\u001b[0;34m)\u001b[0m\u001b[0;34m\u001b[0m\u001b[0m\n\u001b[0m\u001b[1;32m    619\u001b[0m \u001b[0;34m\u001b[0m\u001b[0m\n\u001b[1;32m    620\u001b[0m         \u001b[0;31m# Total elapsed time of the request (approximately)\u001b[0m\u001b[0;34m\u001b[0m\u001b[0;34m\u001b[0m\u001b[0m\n",
      "\u001b[0;32m/Users/thclements/anaconda3/lib/python3.5/site-packages/requests/adapters.py\u001b[0m in \u001b[0;36msend\u001b[0;34m(self, request, stream, timeout, verify, cert, proxies)\u001b[0m\n\u001b[1;32m    506\u001b[0m                 \u001b[0;32mraise\u001b[0m \u001b[0mSSLError\u001b[0m\u001b[0;34m(\u001b[0m\u001b[0me\u001b[0m\u001b[0;34m,\u001b[0m \u001b[0mrequest\u001b[0m\u001b[0;34m=\u001b[0m\u001b[0mrequest\u001b[0m\u001b[0;34m)\u001b[0m\u001b[0;34m\u001b[0m\u001b[0m\n\u001b[1;32m    507\u001b[0m \u001b[0;34m\u001b[0m\u001b[0m\n\u001b[0;32m--> 508\u001b[0;31m             \u001b[0;32mraise\u001b[0m \u001b[0mConnectionError\u001b[0m\u001b[0;34m(\u001b[0m\u001b[0me\u001b[0m\u001b[0;34m,\u001b[0m \u001b[0mrequest\u001b[0m\u001b[0;34m=\u001b[0m\u001b[0mrequest\u001b[0m\u001b[0;34m)\u001b[0m\u001b[0;34m\u001b[0m\u001b[0m\n\u001b[0m\u001b[1;32m    509\u001b[0m \u001b[0;34m\u001b[0m\u001b[0m\n\u001b[1;32m    510\u001b[0m         \u001b[0;32mexcept\u001b[0m \u001b[0mClosedPoolError\u001b[0m \u001b[0;32mas\u001b[0m \u001b[0me\u001b[0m\u001b[0;34m:\u001b[0m\u001b[0;34m\u001b[0m\u001b[0m\n",
      "\u001b[0;31mConnectionError\u001b[0m: HTTPSConnectionPool(host='api.spotify.com', port=443): Max retries exceeded with url: /v1/artists/4Cjsh7anKDaMnQ3YHB1Xwq (Caused by NewConnectionError('<urllib3.connection.VerifiedHTTPSConnection object at 0x118d3db70>: Failed to establish a new connection: [Errno 50] Network is down',))"
     ]
    }
   ],
   "source": [
    "p_group = df.groupby('playlist_name')\n",
    "playlists = pd.DataFrame()\n",
    "for p,p_df in p_group:\n",
    "    p1 = p_df.mean().to_frame().T\n",
    "    p1['playlist_name'] = p\n",
    "    p1 = p1.set_index('playlist_name')\n",
    "    p1['songs_per_playlist'] = len(p_df)\n",
    "    p1['num_artists'] = p_df['artist'].nunique()\n",
    "    genres,count = get_genre_playlist(p_df)\n",
    "    p1['genre'] = genres[0]\n",
    "    playlists = playlists.append(p1)   "
   ]
  },
  {
   "cell_type": "code",
   "execution_count": 87,
   "metadata": {
    "collapsed": false
   },
   "outputs": [
    {
     "data": {
      "image/png": "[encoded data removed]",
      "text/plain": [
       "<matplotlib.figure.Figure at 0x11b366470>"
      ]
     },
     "metadata": {},
     "output_type": "display_data"
    },
    {
     "data": {
      "image/png": "[encoded data removed]",
      "text/plain": [
       "<matplotlib.figure.Figure at 0x1170db5c0>"
      ]
     },
     "metadata": {},
     "output_type": "display_data"
    }
   ],
   "source": [
    "# plt.plot(playlists['num_artists'],playlists['followers'],'bo',alpha = 0.1)\n",
    "# plt.xlabel('Artists per playlist')\n",
    "# plt.ylabel('Followers')\n",
    "# plt.show() \n",
    "\n",
    "# plt.plot(playlists['count'],playlists['followers'],'bo',alpha = 0.1)\n",
    "# plt.xlabel('Songs per playlist')\n",
    "# plt.ylabel('Followers')\n",
    "# plt.show() \n",
    "g1 = sns.jointplot('num_artists','followers',data=playlists,kind='scatter')\n",
    "plt.title('Artists Per Playlist')\n",
    "plt.autoscale()\n",
    "plt.show()\n",
    "\n",
    "g2 = sns.jointplot('songs_per_playlist','followers',data=playlists,kind='scatter')\n",
    "plt.title('Songs Per Playlist')\n",
    "plt.autoscale()\n",
    "plt.show()"
   ]
  },
  {
   "cell_type": "code",
   "execution_count": 98,
   "metadata": {
    "collapsed": false
   },
   "outputs": [
    {
     "name": "stdout",
     "output_type": "stream",
     "text": [
      "65146 unique songs\n"
     ]
    },
    {
     "data": {
      "image/png": "[encoded data removed]",
      "text/plain": [
       "<matplotlib.figure.Figure at 0x11747d320>"
      ]
     },
     "metadata": {},
     "output_type": "display_data"
    }
   ],
   "source": [
    "# get most popular songs \n",
    "songs, counts = np.unique(df['track_id'].values,return_counts = True)\n",
    "print(len(songs),'unique songs')\n",
    "\n",
    "g1 = sns.distplot(counts,kde=False)\n",
    "plt.xlabel('Number of playlists')\n",
    "plt.ylabel('Songs')\n",
    "plt.title('Number of playlist occurences')\n",
    "plt.show()"
   ]
  },
  {
   "cell_type": "code",
   "execution_count": 102,
   "metadata": {
    "collapsed": false
   },
   "outputs": [
    {
     "name": "stdout",
     "output_type": "stream",
     "text": [
      "Thinking Out Loud Ed Sheeran 23 playlists\n",
      "Holocene Bon Iver 20 playlists\n",
      "Wannabe - Radio Edit Spice Girls 17 playlists\n",
      "Crazy In Love Beyoncé 17 playlists\n",
      "Photograph Ed Sheeran 16 playlists\n",
      "Naked As We Came Iron & Wine 16 playlists\n",
      "Uptown Funk Mark Ronson 16 playlists\n",
      "Lost in My Mind The Head and the Heart 16 playlists\n",
      "More Than You Know Axwell /\\ Ingrosso 16 playlists\n",
      "Stargazing Kygo 15 playlists\n",
      "Can't Hold Us - feat. Ray Dalton Macklemore & Ryan Lewis 15 playlists\n",
      "Ophelia The Lumineers 15 playlists\n",
      "Nothing Arrived - Live from Spotify London Villagers 15 playlists\n",
      "Perfect Ed Sheeran 14 playlists\n",
      "No Scrubs TLC 14 playlists\n",
      "I Like Me Better Lauv 14 playlists\n",
      "Get Lucky - Radio Edit Daft Punk 14 playlists\n",
      "Hips Don't Lie Shakira 14 playlists\n",
      "Worth It Fifth Harmony 14 playlists\n",
      "Shut Up and Dance WALK THE MOON 14 playlists\n"
     ]
    }
   ],
   "source": [
    "group_songs = df.groupby('track_id')\n",
    "group_songs = sorted(group_songs,  # iterates pairs of (key, corresponding subDataFrame)\n",
    "                key=lambda x: len(x[1]),  # sort by number of rows (len of subDataFrame)\n",
    "                reverse=True)\n",
    "for song,song_df in group_songs[0:20]:\n",
    "    print(song_df['track_name'].values[0],song_df['artist'].values[0],len(song_df),'playlists')"
   ]
  },
  {
   "cell_type": "code",
   "execution_count": null,
   "metadata": {
    "collapsed": false
   },
   "outputs": [],
   "source": [
    "best_songs = pd.DataFrame()\n",
    "for song,song_df in group_songs[0:100]:\n",
    "    song_df['count'] = len(song_df)\n",
    "    song_df\n",
    "    best_songs = best_songs.append(song_df.iloc[0])"
   ]
  },
  {
   "cell_type": "code",
   "execution_count": 71,
   "metadata": {
    "collapsed": false
   },
   "outputs": [
    {
     "name": "stdout",
     "output_type": "stream",
     "text": [
      "[]\n"
     ]
    }
   ],
   "source": [
    "names = df['playlist_name'].values\n",
    "print(names[np.where('This is' in names)[0]])"
   ]
  },
  {
   "cell_type": "code",
   "execution_count": 78,
   "metadata": {
    "collapsed": false
   },
   "outputs": [],
   "source": [
    "this = [t for t in names if 'This is' in t]"
   ]
  },
  {
   "cell_type": "code",
   "execution_count": 81,
   "metadata": {
    "collapsed": false
   },
   "outputs": [],
   "source": [
    "spice = df.loc[df.playlist_name == 'This is: Spice Girls']"
   ]
  },
  {
   "cell_type": "code",
   "execution_count": 85,
   "metadata": {
    "collapsed": false
   },
   "outputs": [],
   "source": [
    "genres,count = get_genre_playlist(spice)"
   ]
  },
  {
   "cell_type": "code",
   "execution_count": 99,
   "metadata": {
    "collapsed": false
   },
   "outputs": [
    {
     "data": {
      "text/plain": [
       "array(['europop', 'dance pop', 'pop rock', 'pop', 'r&b', 'pop christmas',\n",
       "       'bubblegum dance', 'new wave pop', 'strut'],\n",
       "      dtype='<U15')"
      ]
     },
     "execution_count": 99,
     "metadata": {},
     "output_type": "execute_result"
    }
   ],
   "source": [
    "genres"
   ]
  },
  {
   "cell_type": "code",
   "execution_count": 101,
   "metadata": {
    "collapsed": false
   },
   "outputs": [
    {
     "data": {
      "text/plain": [
       "playlist_name\n",
       "#FlashbackFriday                      pop christmas\n",
       "#Hotmess                           alternative rock\n",
       "#JazzAppreciationMonth                   vocal jazz\n",
       "#MakeitHappen                                   pop\n",
       "#MetalMonday                    melodic death metal\n",
       "#SundayFunday                                   pop\n",
       "#ThankATeacher                                 rock\n",
       "#ThrowbackThursday                      mellow gold\n",
       "'Round Midnight               contemporary post-bop\n",
       "(Descent) A Beginning                       minimal\n",
       "0110                                           rock\n",
       "101_FTB                             rock en espanol\n",
       "12\" Classics                           new wave pop\n",
       "1960                                  rock-and-roll\n",
       "1960s Nostalgia                           folk rock\n",
       "1961                             brill building pop\n",
       "1962                             brill building pop\n",
       "1963                             brill building pop\n",
       "1964                             brill building pop\n",
       "1965                             brill building pop\n",
       "1966                             brill building pop\n",
       "1967                                      folk rock\n",
       "1968                                      folk rock\n",
       "1969                                      folk rock\n",
       "1970                                    mellow gold\n",
       "1971                                      soft rock\n",
       "1972                                    mellow gold\n",
       "1973                                    mellow gold\n",
       "1974                                      soft rock\n",
       "1975                                      soft rock\n",
       "                                      ...          \n",
       "African Heat                            azontobeats\n",
       "Afropop                                       world\n",
       "After Party//Come Down                    indie r&b\n",
       "After Work                                      pop\n",
       "After-Ski Classics                             rock\n",
       "Afternoon Acoustic                       indie folk\n",
       "Afternoon Train Ride                       neo soul\n",
       "Alicia Keys                      urban contemporary\n",
       "All About That Brass                      classical\n",
       "All Funked Up                             deep funk\n",
       "All Night, All Love                             rap\n",
       "All Out 00s                                     pop\n",
       "All Out 50s                           rock-and-roll\n",
       "All Out 60s                      brill building pop\n",
       "All Out 70s                            classic rock\n",
       "All Out 80s                               soft rock\n",
       "All Out 90s                                pop rock\n",
       "All The Feels                                   rap\n",
       "All Things Post                                 emo\n",
       "All You Need Is Love                           rock\n",
       "Alone Again                                     pop\n",
       "Alone on Christmas                    pop christmas\n",
       "Alternative Beats                      indietronica\n",
       "Alternative Lunchbox                    modern rock\n",
       "Alternative New Year's Eve                 folk-pop\n",
       "Alternative Pride                        indie rock\n",
       "Alternative R&B                      deep indie r&b\n",
       "Alternative Route                  alternative rock\n",
       "Ambient Chill                                 focus\n",
       "Americana Icons                          roots rock\n",
       "Name: genre, Length: 151, dtype: object"
      ]
     },
     "execution_count": 101,
     "metadata": {},
     "output_type": "execute_result"
    }
   ],
   "source": [
    "playlists['genre']"
   ]
  },
  {
   "cell_type": "code",
   "execution_count": null,
   "metadata": {
    "collapsed": true
   },
   "outputs": [],
   "source": []
  }
 ],
 "metadata": {
  "anaconda-cloud": {},
  "kernelspec": {
   "display_name": "Python [conda root]",
   "language": "python",
   "name": "conda-root-py"
  },
  "language_info": {
   "codemirror_mode": {
    "name": "ipython",
    "version": 3
   },
   "file_extension": ".py",
   "mimetype": "text/x-python",
   "name": "python",
   "nbconvert_exporter": "python",
   "pygments_lexer": "ipython3",
   "version": "3.5.2"
  }
 },
 "nbformat": 4,
 "nbformat_minor": 1
}
